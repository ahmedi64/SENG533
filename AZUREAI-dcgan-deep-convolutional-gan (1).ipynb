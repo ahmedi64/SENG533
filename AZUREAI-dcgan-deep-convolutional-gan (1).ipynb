{
  "cells": [
    {
      "cell_type": "code",
      "source": [
        "!pip install scikit-image\n",
        "\n",
        "import tensorflow as tf\n",
        "from tensorflow.keras import layers\n",
        "import numpy as np\n",
        "import matplotlib.pyplot as plt\n",
        "import os\n",
        "import time"
      ],
      "outputs": [
        {
          "output_type": "stream",
          "name": "stdout",
          "text": "Requirement already satisfied: scikit-image in /anaconda/envs/azureml_py38/lib/python3.10/site-packages (0.25.0)\r\nRequirement already satisfied: scipy>=1.11.2 in /anaconda/envs/azureml_py38/lib/python3.10/site-packages (from scikit-image) (1.15.2)\r\nRequirement already satisfied: networkx>=3.0 in /anaconda/envs/azureml_py38/lib/python3.10/site-packages (from scikit-image) (3.4)\r\nRequirement already satisfied: imageio!=2.35.0,>=2.33 in /anaconda/envs/azureml_py38/lib/python3.10/site-packages (from scikit-image) (2.37.0)\r\nRequirement already satisfied: pillow>=10.1 in /anaconda/envs/azureml_py38/lib/python3.10/site-packages (from scikit-image) (11.2.1)\r\nRequirement already satisfied: lazy-loader>=0.4 in /anaconda/envs/azureml_py38/lib/python3.10/site-packages (from scikit-image) (0.4)\r\nRequirement already satisfied: numpy>=1.24 in /anaconda/envs/azureml_py38/lib/python3.10/site-packages (from scikit-image) (2.2.5)\r\nRequirement already satisfied: packaging>=21 in /anaconda/envs/azureml_py38/lib/python3.10/site-packages (from scikit-image) (24.2)\r\nRequirement already satisfied: tifffile>=2022.8.12 in /anaconda/envs/azureml_py38/lib/python3.10/site-packages (from scikit-image) (2025.3.30)\r\n"
        },
        {
          "output_type": "stream",
          "name": "stderr",
          "text": "2025-04-23 21:44:03.860404: E external/local_xla/xla/stream_executor/cuda/cuda_fft.cc:467] Unable to register cuFFT factory: Attempting to register factory for plugin cuFFT when one has already been registered\nWARNING: All log messages before absl::InitializeLog() is called are written to STDERR\nE0000 00:00:1745444644.914859    3001 cuda_dnn.cc:8579] Unable to register cuDNN factory: Attempting to register factory for plugin cuDNN when one has already been registered\nE0000 00:00:1745444645.224005    3001 cuda_blas.cc:1407] Unable to register cuBLAS factory: Attempting to register factory for plugin cuBLAS when one has already been registered\nW0000 00:00:1745444647.996538    3001 computation_placer.cc:177] computation placer already registered. Please check linkage and avoid linking the same target more than once.\nW0000 00:00:1745444647.996582    3001 computation_placer.cc:177] computation placer already registered. Please check linkage and avoid linking the same target more than once.\nW0000 00:00:1745444647.996585    3001 computation_placer.cc:177] computation placer already registered. Please check linkage and avoid linking the same target more than once.\nW0000 00:00:1745444647.996587    3001 computation_placer.cc:177] computation placer already registered. Please check linkage and avoid linking the same target more than once.\n2025-04-23 21:44:08.311011: I tensorflow/core/platform/cpu_feature_guard.cc:210] This TensorFlow binary is optimized to use available CPU instructions in performance-critical operations.\nTo enable the following instructions: AVX2 AVX512F FMA, in other operations, rebuild TensorFlow with the appropriate compiler flags.\n"
        }
      ],
      "execution_count": 3,
      "metadata": {
        "trusted": true,
        "execution": {
          "iopub.status.busy": "2025-04-07T08:54:16.012948Z",
          "iopub.execute_input": "2025-04-07T08:54:16.013273Z",
          "iopub.status.idle": "2025-04-07T08:54:16.017453Z",
          "shell.execute_reply.started": "2025-04-07T08:54:16.013251Z",
          "shell.execute_reply": "2025-04-07T08:54:16.016590Z"
        },
        "gather": {
          "logged": 1745444664428
        }
      }
    },
    {
      "cell_type": "code",
      "source": [
        "BUFFER_SIZE = 60000\n",
        "BATCH_SIZE = 256\n",
        "EPOCHS = 10\n",
        "noise_dim = 100\n",
        "num_examples_to_generate = 16"
      ],
      "outputs": [],
      "execution_count": 4,
      "metadata": {
        "trusted": true,
        "execution": {
          "iopub.status.busy": "2025-04-07T08:54:44.727228Z",
          "iopub.execute_input": "2025-04-07T08:54:44.727565Z",
          "iopub.status.idle": "2025-04-07T08:54:44.731387Z",
          "shell.execute_reply.started": "2025-04-07T08:54:44.727537Z",
          "shell.execute_reply": "2025-04-07T08:54:44.730479Z"
        },
        "gather": {
          "logged": 1745444664516
        }
      }
    },
    {
      "cell_type": "code",
      "source": [
        "(train_images, train_labels), (_, _) = tf.keras.datasets.fashion_mnist.load_data()"
      ],
      "outputs": [],
      "execution_count": 5,
      "metadata": {
        "trusted": true,
        "execution": {
          "iopub.status.busy": "2025-04-07T08:54:20.391533Z",
          "iopub.execute_input": "2025-04-07T08:54:20.391830Z",
          "iopub.status.idle": "2025-04-07T08:54:21.113134Z",
          "shell.execute_reply.started": "2025-04-07T08:54:20.391807Z",
          "shell.execute_reply": "2025-04-07T08:54:21.112486Z"
        },
        "gather": {
          "logged": 1745444665052
        }
      }
    },
    {
      "cell_type": "code",
      "source": [
        "train_images = train_images.reshape(train_images.shape[0], 28, 28, 1).astype('float32')\n",
        "train_images = (train_images - 127.5) / 127.5  "
      ],
      "outputs": [],
      "execution_count": 6,
      "metadata": {
        "trusted": true,
        "execution": {
          "iopub.status.busy": "2025-04-07T08:54:23.310640Z",
          "iopub.execute_input": "2025-04-07T08:54:23.310922Z",
          "iopub.status.idle": "2025-04-07T08:54:23.472783Z",
          "shell.execute_reply.started": "2025-04-07T08:54:23.310900Z",
          "shell.execute_reply": "2025-04-07T08:54:23.472093Z"
        },
        "gather": {
          "logged": 1745444665262
        }
      }
    },
    {
      "cell_type": "code",
      "source": [
        "train_dataset = tf.data.Dataset.from_tensor_slices(train_images).shuffle(BUFFER_SIZE).batch(BATCH_SIZE)\n"
      ],
      "outputs": [
        {
          "output_type": "stream",
          "name": "stderr",
          "text": "2025-04-23 21:44:24.912127: E external/local_xla/xla/stream_executor/cuda/cuda_platform.cc:51] failed call to cuInit: INTERNAL: CUDA error: Failed call to cuInit: CUDA_ERROR_NO_DEVICE: no CUDA-capable device is detected\n"
        }
      ],
      "execution_count": 7,
      "metadata": {
        "trusted": true,
        "execution": {
          "iopub.status.busy": "2025-04-07T08:54:24.991438Z",
          "iopub.execute_input": "2025-04-07T08:54:24.991723Z",
          "iopub.status.idle": "2025-04-07T08:54:26.248238Z",
          "shell.execute_reply.started": "2025-04-07T08:54:24.991701Z",
          "shell.execute_reply": "2025-04-07T08:54:26.247613Z"
        },
        "gather": {
          "logged": 1745444665922
        }
      }
    },
    {
      "cell_type": "markdown",
      "source": [
        "# Generator Model"
      ],
      "metadata": {}
    },
    {
      "cell_type": "code",
      "source": [
        "def make_generator_model():\n",
        "    model = tf.keras.Sequential()\n",
        "    \n",
        "    model.add(layers.Dense(7*7*256, use_bias=False, input_shape=(noise_dim,)))\n",
        "    model.add(layers.BatchNormalization())\n",
        "    model.add(layers.LeakyReLU())\n",
        "    \n",
        "    model.add(layers.Reshape((7, 7, 256)))\n",
        "    assert model.output_shape == (None, 7, 7, 256)  \n",
        "    \n",
        "    model.add(layers.Conv2DTranspose(128, (5, 5), strides=(1, 1), padding='same', use_bias=False))\n",
        "    assert model.output_shape == (None, 7, 7, 128)\n",
        "    model.add(layers.BatchNormalization())\n",
        "    model.add(layers.LeakyReLU())\n",
        "    \n",
        "    model.add(layers.Conv2DTranspose(64, (5, 5), strides=(2, 2), padding='same', use_bias=False))\n",
        "    assert model.output_shape == (None, 14, 14, 64)\n",
        "    model.add(layers.BatchNormalization())\n",
        "    model.add(layers.LeakyReLU())\n",
        "    \n",
        "    model.add(layers.Conv2DTranspose(1, (5, 5), strides=(2, 2), padding='same', use_bias=False, activation='tanh'))\n",
        "    assert model.output_shape == (None, 28, 28, 1)\n",
        "    \n",
        "    return model"
      ],
      "outputs": [],
      "execution_count": 8,
      "metadata": {
        "trusted": true,
        "execution": {
          "iopub.status.busy": "2025-04-07T08:56:47.361193Z",
          "iopub.execute_input": "2025-04-07T08:56:47.361526Z",
          "iopub.status.idle": "2025-04-07T08:56:47.367804Z",
          "shell.execute_reply.started": "2025-04-07T08:56:47.361499Z",
          "shell.execute_reply": "2025-04-07T08:56:47.366980Z"
        },
        "gather": {
          "logged": 1745444666012
        }
      }
    },
    {
      "cell_type": "markdown",
      "source": [
        "# Discriminator Model"
      ],
      "metadata": {}
    },
    {
      "cell_type": "code",
      "source": [
        "def make_discriminator_model():\n",
        "    model = tf.keras.Sequential()\n",
        "    \n",
        "    model.add(layers.Conv2D(64, (5, 5), strides=(2, 2), padding='same', input_shape=[28, 28, 1]))\n",
        "    model.add(layers.LeakyReLU())\n",
        "    model.add(layers.Dropout(0.3))\n",
        "    \n",
        "    model.add(layers.Conv2D(128, (5, 5), strides=(2, 2), padding='same'))\n",
        "    model.add(layers.LeakyReLU())\n",
        "    model.add(layers.Dropout(0.3))\n",
        "    \n",
        "    model.add(layers.Flatten())\n",
        "    model.add(layers.Dense(1, activation='sigmoid'))\n",
        "    \n",
        "    return model"
      ],
      "outputs": [],
      "execution_count": 9,
      "metadata": {
        "trusted": true,
        "execution": {
          "iopub.status.busy": "2025-04-07T08:56:50.784113Z",
          "iopub.execute_input": "2025-04-07T08:56:50.784460Z",
          "iopub.status.idle": "2025-04-07T08:56:50.789558Z",
          "shell.execute_reply.started": "2025-04-07T08:56:50.784417Z",
          "shell.execute_reply": "2025-04-07T08:56:50.788676Z"
        },
        "gather": {
          "logged": 1745444666092
        }
      }
    },
    {
      "cell_type": "code",
      "source": [
        "generator = make_generator_model()\n",
        "discriminator = make_discriminator_model()"
      ],
      "outputs": [
        {
          "output_type": "stream",
          "name": "stderr",
          "text": "/anaconda/envs/azureml_py38_PT_TF/lib/python3.10/site-packages/keras/src/layers/core/dense.py:87: UserWarning: Do not pass an `input_shape`/`input_dim` argument to a layer. When using Sequential models, prefer using an `Input(shape)` object as the first layer in the model instead.\n  super().__init__(activity_regularizer=activity_regularizer, **kwargs)\n/anaconda/envs/azureml_py38_PT_TF/lib/python3.10/site-packages/keras/src/layers/convolutional/base_conv.py:107: UserWarning: Do not pass an `input_shape`/`input_dim` argument to a layer. When using Sequential models, prefer using an `Input(shape)` object as the first layer in the model instead.\n  super().__init__(activity_regularizer=activity_regularizer, **kwargs)\n"
        }
      ],
      "execution_count": 10,
      "metadata": {
        "trusted": true,
        "execution": {
          "iopub.status.busy": "2025-04-07T08:57:08.023735Z",
          "iopub.execute_input": "2025-04-07T08:57:08.024031Z",
          "iopub.status.idle": "2025-04-07T08:57:09.623474Z",
          "shell.execute_reply.started": "2025-04-07T08:57:08.024010Z",
          "shell.execute_reply": "2025-04-07T08:57:09.622475Z"
        },
        "gather": {
          "logged": 1745444666197
        }
      }
    },
    {
      "cell_type": "code",
      "source": [
        "cross_entropy = tf.keras.losses.BinaryCrossentropy()"
      ],
      "outputs": [],
      "execution_count": 11,
      "metadata": {
        "trusted": true,
        "execution": {
          "iopub.status.busy": "2025-04-07T08:57:20.551662Z",
          "iopub.execute_input": "2025-04-07T08:57:20.551875Z",
          "iopub.status.idle": "2025-04-07T08:57:20.555125Z",
          "shell.execute_reply.started": "2025-04-07T08:57:20.551857Z",
          "shell.execute_reply": "2025-04-07T08:57:20.554470Z"
        },
        "gather": {
          "logged": 1745444666281
        }
      }
    },
    {
      "cell_type": "code",
      "source": [
        "def discriminator_loss(real_output, fake_output):\n",
        "    real_loss = cross_entropy(tf.ones_like(real_output), real_output)\n",
        "    fake_loss = cross_entropy(tf.zeros_like(fake_output), fake_output)\n",
        "    total_loss = real_loss + fake_loss\n",
        "    return total_loss"
      ],
      "outputs": [],
      "execution_count": 12,
      "metadata": {
        "trusted": true,
        "execution": {
          "iopub.status.busy": "2025-04-07T08:57:29.967240Z",
          "iopub.execute_input": "2025-04-07T08:57:29.967577Z",
          "iopub.status.idle": "2025-04-07T08:57:29.971924Z",
          "shell.execute_reply.started": "2025-04-07T08:57:29.967547Z",
          "shell.execute_reply": "2025-04-07T08:57:29.970985Z"
        },
        "gather": {
          "logged": 1745444666383
        }
      }
    },
    {
      "cell_type": "code",
      "source": [
        "def generator_loss(fake_output):\n",
        "    return cross_entropy(tf.ones_like(fake_output), fake_output)"
      ],
      "outputs": [],
      "execution_count": 13,
      "metadata": {
        "trusted": true,
        "execution": {
          "iopub.status.busy": "2025-04-07T08:57:39.503631Z",
          "iopub.execute_input": "2025-04-07T08:57:39.503927Z",
          "iopub.status.idle": "2025-04-07T08:57:39.507714Z",
          "shell.execute_reply.started": "2025-04-07T08:57:39.503897Z",
          "shell.execute_reply": "2025-04-07T08:57:39.506810Z"
        },
        "gather": {
          "logged": 1745444666475
        }
      }
    },
    {
      "cell_type": "code",
      "source": [
        "generator_optimizer = tf.keras.optimizers.Adam(1e-4)\n",
        "discriminator_optimizer = tf.keras.optimizers.Adam(1e-4)"
      ],
      "outputs": [],
      "execution_count": 14,
      "metadata": {
        "trusted": true,
        "execution": {
          "iopub.status.busy": "2025-04-07T08:57:48.992061Z",
          "iopub.execute_input": "2025-04-07T08:57:48.992500Z",
          "iopub.status.idle": "2025-04-07T08:57:49.002862Z",
          "shell.execute_reply.started": "2025-04-07T08:57:48.992471Z",
          "shell.execute_reply": "2025-04-07T08:57:49.002202Z"
        },
        "gather": {
          "logged": 1745444666552
        }
      }
    },
    {
      "cell_type": "code",
      "source": [
        "checkpoint_dir = './training_checkpoints'\n",
        "checkpoint_prefix = os.path.join(checkpoint_dir, \"ckpt\")\n",
        "checkpoint = tf.train.Checkpoint(generator_optimizer=generator_optimizer,\n",
        "                                discriminator_optimizer=discriminator_optimizer,\n",
        "                                generator=generator,\n",
        "                                discriminator=discriminator)"
      ],
      "outputs": [],
      "execution_count": 15,
      "metadata": {
        "trusted": true,
        "execution": {
          "iopub.status.busy": "2025-04-07T08:58:06.792845Z",
          "iopub.execute_input": "2025-04-07T08:58:06.793125Z",
          "iopub.status.idle": "2025-04-07T08:58:06.797611Z",
          "shell.execute_reply.started": "2025-04-07T08:58:06.793103Z",
          "shell.execute_reply": "2025-04-07T08:58:06.796714Z"
        },
        "gather": {
          "logged": 1745444666635
        }
      }
    },
    {
      "cell_type": "code",
      "source": [
        "seed = tf.random.normal([num_examples_to_generate, noise_dim])"
      ],
      "outputs": [],
      "execution_count": 16,
      "metadata": {
        "trusted": true,
        "execution": {
          "iopub.status.busy": "2025-04-07T08:58:14.712433Z",
          "iopub.execute_input": "2025-04-07T08:58:14.712725Z",
          "iopub.status.idle": "2025-04-07T08:58:14.718984Z",
          "shell.execute_reply.started": "2025-04-07T08:58:14.712701Z",
          "shell.execute_reply": "2025-04-07T08:58:14.718118Z"
        },
        "gather": {
          "logged": 1745444666716
        }
      }
    },
    {
      "cell_type": "code",
      "source": [
        "@tf.function\n",
        "def train_step(images):\n",
        "    noise = tf.random.normal([BATCH_SIZE, noise_dim])\n",
        "    \n",
        "    with tf.GradientTape() as gen_tape, tf.GradientTape() as disc_tape:\n",
        "        generated_images = generator(noise, training=True)\n",
        "        \n",
        "        real_output = discriminator(images, training=True)\n",
        "        fake_output = discriminator(generated_images, training=True)\n",
        "        \n",
        "        gen_loss = generator_loss(fake_output)\n",
        "        disc_loss = discriminator_loss(real_output, fake_output)\n",
        "    \n",
        "    gradients_of_generator = gen_tape.gradient(gen_loss, generator.trainable_variables)\n",
        "    gradients_of_discriminator = disc_tape.gradient(disc_loss, discriminator.trainable_variables)\n",
        "    \n",
        "    generator_optimizer.apply_gradients(zip(gradients_of_generator, generator.trainable_variables))\n",
        "    discriminator_optimizer.apply_gradients(zip(gradients_of_discriminator, discriminator.trainable_variables))\n",
        "    \n",
        "    return gen_loss, disc_loss"
      ],
      "outputs": [],
      "execution_count": 17,
      "metadata": {
        "trusted": true,
        "execution": {
          "iopub.status.busy": "2025-04-07T08:58:29.664315Z",
          "iopub.execute_input": "2025-04-07T08:58:29.664630Z",
          "iopub.status.idle": "2025-04-07T08:58:29.670715Z",
          "shell.execute_reply.started": "2025-04-07T08:58:29.664608Z",
          "shell.execute_reply": "2025-04-07T08:58:29.669778Z"
        },
        "gather": {
          "logged": 1745444747816
        }
      }
    },
    {
      "cell_type": "code",
      "source": [
        "def generate_and_save_images(model, epoch, test_input):\n",
        "    predictions = model(test_input, training=False)\n",
        "    \n",
        "    fig = plt.figure(figsize=(4, 4))\n",
        "    \n",
        "    for i in range(predictions.shape[0]):\n",
        "        plt.subplot(4, 4, i+1)\n",
        "        plt.imshow(predictions[i, :, :, 0] * 127.5 + 127.5, cmap='gray')\n",
        "        plt.axis('off')\n",
        "    \n",
        "    plt.savefig('image_at_epoch_{:04d}.png'.format(epoch))\n",
        "    plt.close()"
      ],
      "outputs": [],
      "execution_count": 18,
      "metadata": {
        "trusted": true,
        "execution": {
          "iopub.status.busy": "2025-04-07T08:58:43.064930Z",
          "iopub.execute_input": "2025-04-07T08:58:43.065225Z",
          "iopub.status.idle": "2025-04-07T08:58:43.070126Z",
          "shell.execute_reply.started": "2025-04-07T08:58:43.065203Z",
          "shell.execute_reply": "2025-04-07T08:58:43.069356Z"
        },
        "gather": {
          "logged": 1745444751644
        }
      }
    },
    {
      "cell_type": "code",
      "source": [
        "import time\n",
        "import tensorflow as tf\n",
        "\n",
        "class CustomLogger(tf.keras.callbacks.Callback):\n",
        "    def on_train_begin(self, logs=None):\n",
        "        self.train_start_time = time.time()\n",
        "        self.epoch_times = []\n",
        "\n",
        "    def on_epoch_begin(self, epoch, logs=None):\n",
        "        print(f\"Epoch {epoch + 1}/{self.params['epochs']}\")\n",
        "        self.epoch_start_time = time.time()\n",
        "\n",
        "    def on_epoch_end(self, epoch, logs=None):\n",
        "        epoch_time = time.time() - self.epoch_start_time\n",
        "        self.epoch_times.append(epoch_time)\n",
        "        steps = self.params['steps']\n",
        "        step_time = epoch_time / steps\n",
        "        print(f\"{steps}/{steps} ━━━━━━━━━━━━━━━━━━━━ \"\n",
        "              f\"{int(epoch_time)}s {int(step_time * 1000)}ms/step - \"\n",
        "              f\"accuracy: {logs['accuracy']:.4f} - loss: {logs['loss']:.4f} - \"\n",
        "              f\"val_accuracy: {logs['val_accuracy']:.4f} - val_loss: {logs['val_loss']:.2f}\")\n",
        "\n",
        "    def on_train_end(self, logs=None):\n",
        "        self.total_train_time = time.time() - self.train_start_time\n"
      ],
      "outputs": [],
      "execution_count": 19,
      "metadata": {
        "gather": {
          "logged": 1745444753085
        }
      }
    },
    {
      "cell_type": "code",
      "source": [
        "import matplotlib.pyplot as plt\n",
        "\n",
        "def train(dataset, epochs):\n",
        "    total_train_time = 0\n",
        "    epoch_times = []\n",
        "\n",
        "    gen_losses = []\n",
        "    disc_losses = []\n",
        "\n",
        "    steps_per_epoch = tf.data.experimental.cardinality(dataset).numpy()\n",
        "\n",
        "    for epoch in range(epochs):\n",
        "        print(f\"Epoch {epoch + 1}/{epochs}\")\n",
        "        start = time.time()\n",
        "\n",
        "        for i, image_batch in enumerate(dataset):\n",
        "            gen_loss, disc_loss = train_step(image_batch)\n",
        "\n",
        "        epoch_time = time.time() - start\n",
        "        epoch_times.append(epoch_time)\n",
        "        total_train_time += epoch_time\n",
        "\n",
        "        # Save last loss of this epoch\n",
        "        gen_losses.append(gen_loss.numpy())\n",
        "        disc_losses.append(disc_loss.numpy())\n",
        "\n",
        "        step_time = epoch_time / steps_per_epoch\n",
        "        print(f\"{steps_per_epoch}/{steps_per_epoch} ━━━━━━━━━━━━━━━━━━━━ \"\n",
        "              f\"{int(epoch_time)}s {int(step_time * 1000)}ms/step - \"\n",
        "              f\"gen_loss: {gen_loss:.4f} - disc_loss: {disc_loss:.4f}\")\n",
        "\n",
        "        if (epoch + 1) % 10 == 0:\n",
        "            generate_and_save_images(generator, epoch + 1, seed)\n",
        "\n",
        "        if (epoch + 1) % 15 == 0:\n",
        "            checkpoint.save(file_prefix=checkpoint_prefix)\n",
        "\n",
        "    generate_and_save_images(generator, epochs, seed)\n",
        "\n",
        "    avg_epoch_time = sum(epoch_times) / len(epoch_times)\n",
        "    avg_step_time = avg_epoch_time / steps_per_epoch\n",
        "\n",
        "    print(\"\\n--- Final Metrics ---\")\n",
        "    print(f\"Total Training Time: {total_train_time:.2f} seconds\")\n",
        "    print(f\"Average Epoch Time: {avg_epoch_time:.2f} seconds\")\n",
        "    print(f\"Step Time (approximate per batch): {avg_step_time:.4f} seconds\")\n",
        "\n",
        "    # Plotting losses\n",
        "    epochs_range = range(1, epochs + 1)\n",
        "\n",
        "    plt.figure(figsize=(10, 4))\n",
        "\n",
        "    plt.subplot(1, 2, 1)\n",
        "    plt.plot(epochs_range, gen_losses, label='Generator Loss', color='blue')\n",
        "    plt.xlabel(\"Epochs\")\n",
        "    plt.ylabel(\"Loss\")\n",
        "    plt.title(\"Epochs vs Generator Loss\")\n",
        "    plt.grid(True)\n",
        "    plt.legend()\n",
        "\n",
        "    plt.subplot(1, 2, 2)\n",
        "    plt.plot(epochs_range, disc_losses, label='Discriminator Loss', color='orange')\n",
        "    plt.xlabel(\"Epochs\")\n",
        "    plt.ylabel(\"Loss\")\n",
        "    plt.title(\"Epochs vs Discriminator Loss\")\n",
        "    plt.grid(True)\n",
        "    plt.legend()\n",
        "\n",
        "    plt.tight_layout()\n",
        "    \n",
        "    plt.show()\n",
        "\n",
        "train(train_dataset, EPOCHS)"
      ],
      "outputs": [
        {
          "output_type": "stream",
          "name": "stdout",
          "text": "Epoch 1/10\n235/235 ━━━━━━━━━━━━━━━━━━━━ 221s 941ms/step - gen_loss: 1.6765 - disc_loss: 0.4136\nEpoch 2/10\n235/235 ━━━━━━━━━━━━━━━━━━━━ 214s 913ms/step - gen_loss: 0.7406 - disc_loss: 1.4444\nEpoch 3/10\n235/235 ━━━━━━━━━━━━━━━━━━━━ 213s 909ms/step - gen_loss: 0.8212 - disc_loss: 1.2028\nEpoch 4/10\n235/235 ━━━━━━━━━━━━━━━━━━━━ 214s 913ms/step - gen_loss: 0.7121 - disc_loss: 1.6708\nEpoch 5/10\n235/235 ━━━━━━━━━━━━━━━━━━━━ 213s 908ms/step - gen_loss: 0.6756 - disc_loss: 1.4864\nEpoch 6/10\n235/235 ━━━━━━━━━━━━━━━━━━━━ 213s 909ms/step - gen_loss: 0.7850 - disc_loss: 1.3389\nEpoch 7/10\n235/235 ━━━━━━━━━━━━━━━━━━━━ 213s 909ms/step - gen_loss: 0.9485 - disc_loss: 1.1226\nEpoch 8/10\n235/235 ━━━━━━━━━━━━━━━━━━━━ 212s 902ms/step - gen_loss: 0.6919 - disc_loss: 1.5603\nEpoch 9/10\n235/235 ━━━━━━━━━━━━━━━━━━━━ 214s 914ms/step - gen_loss: 0.9177 - disc_loss: 1.1665\nEpoch 10/10\n235/235 ━━━━━━━━━━━━━━━━━━━━ 213s 907ms/step - gen_loss: 0.9138 - disc_loss: 1.2128\n\n--- Final Metrics ---\nTotal Training Time: 2145.69 seconds\nAverage Epoch Time: 214.57 seconds\nStep Time (approximate per batch): 0.9131 seconds\n"
        },
        {
          "output_type": "display_data",
          "data": {
            "text/plain": "<Figure size 1000x400 with 2 Axes>",
            "image/png": "[encoded data removed]"
          },
          "metadata": {}
        }
      ],
      "execution_count": 20,
      "metadata": {
        "trusted": true,
        "execution": {
          "iopub.status.busy": "2025-04-07T08:59:08.506265Z",
          "iopub.execute_input": "2025-04-07T08:59:08.506610Z",
          "iopub.status.idle": "2025-04-07T10:54:30.053334Z",
          "shell.execute_reply.started": "2025-04-07T08:59:08.506583Z",
          "shell.execute_reply": "2025-04-07T10:54:30.052387Z"
        },
        "gather": {
          "logged": 1745446916013
        }
      }
    },
    {
      "cell_type": "code",
      "source": [
        "import matplotlib.pyplot as plt\n",
        "import numpy as np\n",
        "\n",
        "real_images = train_images[:10]  \n",
        "\n",
        "noise = tf.random.normal([10, noise_dim])\n",
        "generated_images = generator(noise, training=False)\n",
        "\n",
        "real_images = (real_images * 127.5 + 127.5) / 255.0\n",
        "generated_images = (generated_images * 127.5 + 127.5) / 255.0\n",
        "\n",
        "plt.figure(figsize=(20, 4))\n",
        "\n",
        "for i in range(10):\n",
        "    ax = plt.subplot(2, 10, i+1)\n",
        "    plt.imshow(real_images[i].reshape(28, 28), cmap='gray')\n",
        "    plt.title(\"Real\", fontsize=8)\n",
        "    plt.axis('off')\n",
        "\n",
        "for i in range(10):\n",
        "    ax = plt.subplot(2, 10, i+11)\n",
        "    plt.imshow(generated_images[i].numpy().reshape(28, 28), cmap='gray')\n",
        "    plt.title(\"Generated\", fontsize=8)\n",
        "    plt.axis('off')\n",
        "\n",
        "plt.tight_layout()\n",
        "plt.savefig('real_vs_generated.png', dpi=300, bbox_inches='tight')\n",
        "plt.show()"
      ],
      "outputs": [
        {
          "output_type": "display_data",
          "data": {
            "text/plain": "<Figure size 2000x400 with 20 Axes>",
            "image/png": "[encoded data removed]"
          },
          "metadata": {}
        }
      ],
      "execution_count": 39,
      "metadata": {
        "trusted": true,
        "execution": {
          "iopub.status.busy": "2025-04-07T10:55:17.338226Z",
          "iopub.execute_input": "2025-04-07T10:55:17.338594Z",
          "iopub.status.idle": "2025-04-07T10:55:19.827539Z",
          "shell.execute_reply.started": "2025-04-07T10:55:17.338565Z",
          "shell.execute_reply": "2025-04-07T10:55:19.826656Z"
        },
        "gather": {
          "logged": 1745378926302
        }
      }
    },
    {
      "cell_type": "code",
      "source": [
        "from skimage.metrics import structural_similarity as ssim\n",
        "\n",
        "def calculate_ssim(real_images, generated_images):\n",
        "    scores = []\n",
        "    for i in range(10):\n",
        "        real = real_images[i].squeeze()\n",
        "        gen = generated_images[i].numpy().squeeze()\n",
        "        scores.append(ssim(real, gen, data_range=2.0))\n",
        "    return np.mean(scores)\n",
        "\n",
        "ssim_score = calculate_ssim(real_images, generated_images)\n",
        "print(f\"SSIM Score: {ssim_score:.4f}\")"
      ],
      "outputs": [],
      "execution_count": null,
      "metadata": {
        "trusted": true,
        "execution": {
          "iopub.status.busy": "2025-04-07T10:55:28.128854Z",
          "iopub.execute_input": "2025-04-07T10:55:28.129184Z",
          "iopub.status.idle": "2025-04-07T10:55:28.199479Z",
          "shell.execute_reply.started": "2025-04-07T10:55:28.129155Z",
          "shell.execute_reply": "2025-04-07T10:55:28.198802Z"
        },
        "gather": {
          "logged": 1745379747182
        }
      }
    },
    {
      "cell_type": "code",
      "source": [],
      "outputs": [],
      "execution_count": null,
      "metadata": {}
    }
  ],
  "metadata": {
    "kernelspec": {
      "name": "python38-azureml-pt-tf",
      "language": "python",
      "display_name": "Python 3.8 - Pytorch and Tensorflow"
    },
    "language_info": {
      "name": "python",
      "version": "3.10.16",
      "mimetype": "text/x-python",
      "codemirror_mode": {
        "name": "ipython",
        "version": 3
      },
      "pygments_lexer": "ipython3",
      "nbconvert_exporter": "python",
      "file_extension": ".py"
    },
    "kaggle": {
      "accelerator": "gpu",
      "dataSources": [
        {
          "sourceId": 9243,
          "sourceType": "datasetVersion",
          "datasetId": 2243
        }
      ],
      "dockerImageVersionId": 30919,
      "isInternetEnabled": true,
      "language": "python",
      "sourceType": "notebook",
      "isGpuEnabled": true
    },
    "microsoft": {
      "ms_spell_check": {
        "ms_spell_check_language": "en"
      },
      "host": {
        "AzureML": {
          "notebookHasBeenCompleted": true
        }
      }
    },
    "kernel_info": {
      "name": "python38-azureml-pt-tf"
    },
    "nteract": {
      "version": "nteract-front-end@1.0.0"
    }
  },
  "nbformat": 4,
  "nbformat_minor": 4
}