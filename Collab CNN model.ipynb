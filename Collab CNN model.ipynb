{
  "nbformat": 4,
  "nbformat_minor": 0,
  "metadata": {
    "colab": {
      "provenance": []
    },
    "kernelspec": {
      "name": "python3",
      "display_name": "Python 3"
    },
    "language_info": {
      "name": "python"
    }
  },
  "cells": [
    {
      "cell_type": "markdown",
      "source": [
        "Import All Neccessary Packages\n"
      ],
      "metadata": {
        "id": "8xShLykoP9lQ"
      }
    },
    {
      "cell_type": "code",
      "execution_count": null,
      "metadata": {
        "id": "o7ZjrV_rPgpY"
      },
      "outputs": [],
      "source": [
        "import numpy as np\n",
        "import tensorflow as tf\n",
        "from keras import layers\n",
        "from keras import models\n",
        "from keras.datasets import mnist"
      ]
    },
    {
      "cell_type": "markdown",
      "source": [
        "Preprocessing"
      ],
      "metadata": {
        "id": "giSDX4NrP6Ox"
      }
    },
    {
      "cell_type": "code",
      "source": [
        "from keras.utils import to_categorical\n",
        "\n",
        "(X_train, y_train), (X_test, y_test) = mnist.load_data()\n",
        "\n",
        "print(\"X_train shape\", X_train.shape)\n",
        "print(\"y_train shape\", y_train.shape)\n",
        "print(\"X_test shape\", X_test.shape)\n",
        "print(\"y_test shape\", y_test.shape)\n",
        "\n",
        "X_train = X_train.reshape(X_train.shape[0], 28, 28, 1).astype('float32') / 255\n",
        "X_test = X_test.reshape(X_test.shape[0], 28, 28, 1).astype('float32') / 255\n",
        "Y_train = to_categorical(y_train, num_classes=10)\n",
        "Y_test = to_categorical(y_test, num_classes=10)"
      ],
      "metadata": {
        "colab": {
          "base_uri": "https://localhost:8080/"
        },
        "id": "R0zqC0yYQF1P",
        "outputId": "9e4c0ffc-a308-4410-facd-93f4ed51bfb1"
      },
      "execution_count": null,
      "outputs": [
        {
          "output_type": "stream",
          "name": "stdout",
          "text": [
            "X_train shape (60000, 28, 28)\n",
            "y_train shape (60000,)\n",
            "X_test shape (10000, 28, 28)\n",
            "y_test shape (10000,)\n"
          ]
        }
      ]
    },
    {
      "cell_type": "markdown",
      "source": [
        "CNN Model"
      ],
      "metadata": {
        "id": "jPMLAYJ7QhW5"
      }
    },
    {
      "cell_type": "code",
      "source": [
        "from keras.layers import Conv2D, MaxPooling2D, Flatten, Dense, Dropout\n",
        "from keras.models import Sequential\n",
        "\n",
        "model = Sequential()\n",
        "model.add(Conv2D(16, kernel_size=(3,3), strides=(1,1),\n",
        "          padding='valid', activation='relu', input_shape=(28,28,1)))\n",
        "model.add(MaxPooling2D(pool_size=(1,1)))\n",
        "model.add(Flatten())\n",
        "model.add(Dense(128, activation='relu'))\n",
        "model.add(Dropout(0.5))\n",
        "model.add(Dense(10, activation='softmax'))\n",
        "\n",
        "\n",
        "model.compile(loss='categorical_crossentropy', optimizer='adam',\n",
        "              metrics=['accuracy'])"
      ],
      "metadata": {
        "id": "QWpDvXkqQlYY"
      },
      "execution_count": null,
      "outputs": []
    },
    {
      "cell_type": "code",
      "source": [
        "history=model.fit(X_train, Y_train, batch_size=128,\n",
        "                  epochs=30, validation_data=(X_test, Y_test))"
      ],
      "metadata": {
        "colab": {
          "base_uri": "https://localhost:8080/"
        },
        "id": "uo3D979dQrR_",
        "outputId": "7a30ec0a-d389-4dd2-a84b-5a789300e417"
      },
      "execution_count": null,
      "outputs": [
        {
          "output_type": "stream",
          "name": "stdout",
          "text": [
            "Epoch 1/30\n",
            "\u001b[1m469/469\u001b[0m \u001b[32m━━━━━━━━━━━━━━━━━━━━\u001b[0m\u001b[37m\u001b[0m \u001b[1m35s\u001b[0m 72ms/step - accuracy: 0.8386 - loss: 0.5277 - val_accuracy: 0.9725 - val_loss: 0.0878\n",
            "Epoch 2/30\n",
            "\u001b[1m469/469\u001b[0m \u001b[32m━━━━━━━━━━━━━━━━━━━━\u001b[0m\u001b[37m\u001b[0m \u001b[1m32s\u001b[0m 68ms/step - accuracy: 0.9625 - loss: 0.1329 - val_accuracy: 0.9798 - val_loss: 0.0628\n",
            "Epoch 3/30\n",
            "\u001b[1m469/469\u001b[0m \u001b[32m━━━━━━━━━━━━━━━━━━━━\u001b[0m\u001b[37m\u001b[0m \u001b[1m31s\u001b[0m 66ms/step - accuracy: 0.9739 - loss: 0.0873 - val_accuracy: 0.9828 - val_loss: 0.0539\n",
            "Epoch 4/30\n",
            "\u001b[1m469/469\u001b[0m \u001b[32m━━━━━━━━━━━━━━━━━━━━\u001b[0m\u001b[37m\u001b[0m \u001b[1m31s\u001b[0m 66ms/step - accuracy: 0.9790 - loss: 0.0673 - val_accuracy: 0.9831 - val_loss: 0.0510\n",
            "Epoch 5/30\n",
            "\u001b[1m469/469\u001b[0m \u001b[32m━━━━━━━━━━━━━━━━━━━━\u001b[0m\u001b[37m\u001b[0m \u001b[1m33s\u001b[0m 70ms/step - accuracy: 0.9812 - loss: 0.0585 - val_accuracy: 0.9838 - val_loss: 0.0502\n",
            "Epoch 6/30\n",
            "\u001b[1m469/469\u001b[0m \u001b[32m━━━━━━━━━━━━━━━━━━━━\u001b[0m\u001b[37m\u001b[0m \u001b[1m39s\u001b[0m 66ms/step - accuracy: 0.9853 - loss: 0.0494 - val_accuracy: 0.9864 - val_loss: 0.0456\n",
            "Epoch 7/30\n",
            "\u001b[1m469/469\u001b[0m \u001b[32m━━━━━━━━━━━━━━━━━━━━\u001b[0m\u001b[37m\u001b[0m \u001b[1m31s\u001b[0m 67ms/step - accuracy: 0.9864 - loss: 0.0424 - val_accuracy: 0.9863 - val_loss: 0.0446\n",
            "Epoch 8/30\n",
            "\u001b[1m469/469\u001b[0m \u001b[32m━━━━━━━━━━━━━━━━━━━━\u001b[0m\u001b[37m\u001b[0m \u001b[1m41s\u001b[0m 67ms/step - accuracy: 0.9889 - loss: 0.0361 - val_accuracy: 0.9865 - val_loss: 0.0423\n",
            "Epoch 9/30\n",
            "\u001b[1m469/469\u001b[0m \u001b[32m━━━━━━━━━━━━━━━━━━━━\u001b[0m\u001b[37m\u001b[0m \u001b[1m42s\u001b[0m 69ms/step - accuracy: 0.9887 - loss: 0.0349 - val_accuracy: 0.9860 - val_loss: 0.0462\n",
            "Epoch 10/30\n",
            "\u001b[1m469/469\u001b[0m \u001b[32m━━━━━━━━━━━━━━━━━━━━\u001b[0m\u001b[37m\u001b[0m \u001b[1m32s\u001b[0m 69ms/step - accuracy: 0.9895 - loss: 0.0317 - val_accuracy: 0.9869 - val_loss: 0.0451\n",
            "Epoch 11/30\n",
            "\u001b[1m469/469\u001b[0m \u001b[32m━━━━━━━━━━━━━━━━━━━━\u001b[0m\u001b[37m\u001b[0m \u001b[1m40s\u001b[0m 68ms/step - accuracy: 0.9907 - loss: 0.0267 - val_accuracy: 0.9850 - val_loss: 0.0528\n",
            "Epoch 12/30\n",
            "\u001b[1m469/469\u001b[0m \u001b[32m━━━━━━━━━━━━━━━━━━━━\u001b[0m\u001b[37m\u001b[0m \u001b[1m31s\u001b[0m 65ms/step - accuracy: 0.9921 - loss: 0.0245 - val_accuracy: 0.9865 - val_loss: 0.0462\n",
            "Epoch 13/30\n",
            "\u001b[1m469/469\u001b[0m \u001b[32m━━━━━━━━━━━━━━━━━━━━\u001b[0m\u001b[37m\u001b[0m \u001b[1m42s\u001b[0m 69ms/step - accuracy: 0.9923 - loss: 0.0229 - val_accuracy: 0.9860 - val_loss: 0.0462\n",
            "Epoch 14/30\n",
            "\u001b[1m469/469\u001b[0m \u001b[32m━━━━━━━━━━━━━━━━━━━━\u001b[0m\u001b[37m\u001b[0m \u001b[1m30s\u001b[0m 65ms/step - accuracy: 0.9923 - loss: 0.0222 - val_accuracy: 0.9857 - val_loss: 0.0474\n",
            "Epoch 15/30\n",
            "\u001b[1m469/469\u001b[0m \u001b[32m━━━━━━━━━━━━━━━━━━━━\u001b[0m\u001b[37m\u001b[0m \u001b[1m41s\u001b[0m 65ms/step - accuracy: 0.9925 - loss: 0.0220 - val_accuracy: 0.9863 - val_loss: 0.0470\n",
            "Epoch 16/30\n",
            "\u001b[1m469/469\u001b[0m \u001b[32m━━━━━━━━━━━━━━━━━━━━\u001b[0m\u001b[37m\u001b[0m \u001b[1m43s\u001b[0m 70ms/step - accuracy: 0.9933 - loss: 0.0191 - val_accuracy: 0.9869 - val_loss: 0.0472\n",
            "Epoch 17/30\n",
            "\u001b[1m469/469\u001b[0m \u001b[32m━━━━━━━━━━━━━━━━━━━━\u001b[0m\u001b[37m\u001b[0m \u001b[1m31s\u001b[0m 65ms/step - accuracy: 0.9941 - loss: 0.0170 - val_accuracy: 0.9872 - val_loss: 0.0515\n",
            "Epoch 18/30\n",
            "\u001b[1m469/469\u001b[0m \u001b[32m━━━━━━━━━━━━━━━━━━━━\u001b[0m\u001b[37m\u001b[0m \u001b[1m43s\u001b[0m 69ms/step - accuracy: 0.9949 - loss: 0.0161 - val_accuracy: 0.9861 - val_loss: 0.0516\n",
            "Epoch 19/30\n",
            "\u001b[1m469/469\u001b[0m \u001b[32m━━━━━━━━━━━━━━━━━━━━\u001b[0m\u001b[37m\u001b[0m \u001b[1m41s\u001b[0m 69ms/step - accuracy: 0.9950 - loss: 0.0144 - val_accuracy: 0.9862 - val_loss: 0.0550\n",
            "Epoch 20/30\n",
            "\u001b[1m469/469\u001b[0m \u001b[32m━━━━━━━━━━━━━━━━━━━━\u001b[0m\u001b[37m\u001b[0m \u001b[1m40s\u001b[0m 67ms/step - accuracy: 0.9948 - loss: 0.0144 - val_accuracy: 0.9857 - val_loss: 0.0553\n",
            "Epoch 21/30\n",
            "\u001b[1m469/469\u001b[0m \u001b[32m━━━━━━━━━━━━━━━━━━━━\u001b[0m\u001b[37m\u001b[0m \u001b[1m32s\u001b[0m 69ms/step - accuracy: 0.9939 - loss: 0.0161 - val_accuracy: 0.9853 - val_loss: 0.0591\n",
            "Epoch 22/30\n",
            "\u001b[1m469/469\u001b[0m \u001b[32m━━━━━━━━━━━━━━━━━━━━\u001b[0m\u001b[37m\u001b[0m \u001b[1m40s\u001b[0m 68ms/step - accuracy: 0.9956 - loss: 0.0144 - val_accuracy: 0.9860 - val_loss: 0.0556\n",
            "Epoch 23/30\n",
            "\u001b[1m469/469\u001b[0m \u001b[32m━━━━━━━━━━━━━━━━━━━━\u001b[0m\u001b[37m\u001b[0m \u001b[1m31s\u001b[0m 66ms/step - accuracy: 0.9954 - loss: 0.0134 - val_accuracy: 0.9865 - val_loss: 0.0581\n",
            "Epoch 24/30\n",
            "\u001b[1m469/469\u001b[0m \u001b[32m━━━━━━━━━━━━━━━━━━━━\u001b[0m\u001b[37m\u001b[0m \u001b[1m32s\u001b[0m 68ms/step - accuracy: 0.9956 - loss: 0.0128 - val_accuracy: 0.9864 - val_loss: 0.0583\n",
            "Epoch 25/30\n",
            "\u001b[1m469/469\u001b[0m \u001b[32m━━━━━━━━━━━━━━━━━━━━\u001b[0m\u001b[37m\u001b[0m \u001b[1m42s\u001b[0m 70ms/step - accuracy: 0.9957 - loss: 0.0128 - val_accuracy: 0.9858 - val_loss: 0.0600\n",
            "Epoch 26/30\n",
            "\u001b[1m469/469\u001b[0m \u001b[32m━━━━━━━━━━━━━━━━━━━━\u001b[0m\u001b[37m\u001b[0m \u001b[1m39s\u001b[0m 67ms/step - accuracy: 0.9955 - loss: 0.0129 - val_accuracy: 0.9868 - val_loss: 0.0562\n",
            "Epoch 27/30\n",
            "\u001b[1m469/469\u001b[0m \u001b[32m━━━━━━━━━━━━━━━━━━━━\u001b[0m\u001b[37m\u001b[0m \u001b[1m41s\u001b[0m 67ms/step - accuracy: 0.9952 - loss: 0.0136 - val_accuracy: 0.9862 - val_loss: 0.0558\n",
            "Epoch 28/30\n",
            "\u001b[1m469/469\u001b[0m \u001b[32m━━━━━━━━━━━━━━━━━━━━\u001b[0m\u001b[37m\u001b[0m \u001b[1m43s\u001b[0m 71ms/step - accuracy: 0.9958 - loss: 0.0110 - val_accuracy: 0.9868 - val_loss: 0.0578\n",
            "Epoch 29/30\n",
            "\u001b[1m469/469\u001b[0m \u001b[32m━━━━━━━━━━━━━━━━━━━━\u001b[0m\u001b[37m\u001b[0m \u001b[1m41s\u001b[0m 72ms/step - accuracy: 0.9958 - loss: 0.0119 - val_accuracy: 0.9865 - val_loss: 0.0558\n",
            "Epoch 30/30\n",
            "\u001b[1m469/469\u001b[0m \u001b[32m━━━━━━━━━━━━━━━━━━━━\u001b[0m\u001b[37m\u001b[0m \u001b[1m40s\u001b[0m 69ms/step - accuracy: 0.9966 - loss: 0.0100 - val_accuracy: 0.9858 - val_loss: 0.0636\n"
          ]
        }
      ]
    },
    {
      "cell_type": "code",
      "source": [
        "model.summary()"
      ],
      "metadata": {
        "colab": {
          "base_uri": "https://localhost:8080/",
          "height": 347
        },
        "id": "VdBPHusUVDCh",
        "outputId": "60cf5721-4fb3-4221-efae-9c020cac45e4"
      },
      "execution_count": null,
      "outputs": [
        {
          "output_type": "display_data",
          "data": {
            "text/plain": [
              "\u001b[1mModel: \"sequential_1\"\u001b[0m\n"
            ],
            "text/html": [
              "<pre style=\"white-space:pre;overflow-x:auto;line-height:normal;font-family:Menlo,'DejaVu Sans Mono',consolas,'Courier New',monospace\"><span style=\"font-weight: bold\">Model: \"sequential_1\"</span>\n",
              "</pre>\n"
            ]
          },
          "metadata": {}
        },
        {
          "output_type": "display_data",
          "data": {
            "text/plain": [
              "┏━━━━━━━━━━━━━━━━━━━━━━━━━━━━━━━━━━━━━━┳━━━━━━━━━━━━━━━━━━━━━━━━━━━━━┳━━━━━━━━━━━━━━━━━┓\n",
              "┃\u001b[1m \u001b[0m\u001b[1mLayer (type)                        \u001b[0m\u001b[1m \u001b[0m┃\u001b[1m \u001b[0m\u001b[1mOutput Shape               \u001b[0m\u001b[1m \u001b[0m┃\u001b[1m \u001b[0m\u001b[1m        Param #\u001b[0m\u001b[1m \u001b[0m┃\n",
              "┡━━━━━━━━━━━━━━━━━━━━━━━━━━━━━━━━━━━━━━╇━━━━━━━━━━━━━━━━━━━━━━━━━━━━━╇━━━━━━━━━━━━━━━━━┩\n",
              "│ conv2d_1 (\u001b[38;5;33mConv2D\u001b[0m)                    │ (\u001b[38;5;45mNone\u001b[0m, \u001b[38;5;34m26\u001b[0m, \u001b[38;5;34m26\u001b[0m, \u001b[38;5;34m16\u001b[0m)          │             \u001b[38;5;34m160\u001b[0m │\n",
              "├──────────────────────────────────────┼─────────────────────────────┼─────────────────┤\n",
              "│ max_pooling2d_1 (\u001b[38;5;33mMaxPooling2D\u001b[0m)       │ (\u001b[38;5;45mNone\u001b[0m, \u001b[38;5;34m26\u001b[0m, \u001b[38;5;34m26\u001b[0m, \u001b[38;5;34m16\u001b[0m)          │               \u001b[38;5;34m0\u001b[0m │\n",
              "├──────────────────────────────────────┼─────────────────────────────┼─────────────────┤\n",
              "│ flatten_1 (\u001b[38;5;33mFlatten\u001b[0m)                  │ (\u001b[38;5;45mNone\u001b[0m, \u001b[38;5;34m10816\u001b[0m)               │               \u001b[38;5;34m0\u001b[0m │\n",
              "├──────────────────────────────────────┼─────────────────────────────┼─────────────────┤\n",
              "│ dense_2 (\u001b[38;5;33mDense\u001b[0m)                      │ (\u001b[38;5;45mNone\u001b[0m, \u001b[38;5;34m128\u001b[0m)                 │       \u001b[38;5;34m1,384,576\u001b[0m │\n",
              "├──────────────────────────────────────┼─────────────────────────────┼─────────────────┤\n",
              "│ dropout_1 (\u001b[38;5;33mDropout\u001b[0m)                  │ (\u001b[38;5;45mNone\u001b[0m, \u001b[38;5;34m128\u001b[0m)                 │               \u001b[38;5;34m0\u001b[0m │\n",
              "├──────────────────────────────────────┼─────────────────────────────┼─────────────────┤\n",
              "│ dense_3 (\u001b[38;5;33mDense\u001b[0m)                      │ (\u001b[38;5;45mNone\u001b[0m, \u001b[38;5;34m10\u001b[0m)                  │           \u001b[38;5;34m1,290\u001b[0m │\n",
              "└──────────────────────────────────────┴─────────────────────────────┴─────────────────┘\n"
            ],
            "text/html": [
              "<pre style=\"white-space:pre;overflow-x:auto;line-height:normal;font-family:Menlo,'DejaVu Sans Mono',consolas,'Courier New',monospace\">┏━━━━━━━━━━━━━━━━━━━━━━━━━━━━━━━━━━━━━━┳━━━━━━━━━━━━━━━━━━━━━━━━━━━━━┳━━━━━━━━━━━━━━━━━┓\n",
              "┃<span style=\"font-weight: bold\"> Layer (type)                         </span>┃<span style=\"font-weight: bold\"> Output Shape                </span>┃<span style=\"font-weight: bold\">         Param # </span>┃\n",
              "┡━━━━━━━━━━━━━━━━━━━━━━━━━━━━━━━━━━━━━━╇━━━━━━━━━━━━━━━━━━━━━━━━━━━━━╇━━━━━━━━━━━━━━━━━┩\n",
              "│ conv2d_1 (<span style=\"color: #0087ff; text-decoration-color: #0087ff\">Conv2D</span>)                    │ (<span style=\"color: #00d7ff; text-decoration-color: #00d7ff\">None</span>, <span style=\"color: #00af00; text-decoration-color: #00af00\">26</span>, <span style=\"color: #00af00; text-decoration-color: #00af00\">26</span>, <span style=\"color: #00af00; text-decoration-color: #00af00\">16</span>)          │             <span style=\"color: #00af00; text-decoration-color: #00af00\">160</span> │\n",
              "├──────────────────────────────────────┼─────────────────────────────┼─────────────────┤\n",
              "│ max_pooling2d_1 (<span style=\"color: #0087ff; text-decoration-color: #0087ff\">MaxPooling2D</span>)       │ (<span style=\"color: #00d7ff; text-decoration-color: #00d7ff\">None</span>, <span style=\"color: #00af00; text-decoration-color: #00af00\">26</span>, <span style=\"color: #00af00; text-decoration-color: #00af00\">26</span>, <span style=\"color: #00af00; text-decoration-color: #00af00\">16</span>)          │               <span style=\"color: #00af00; text-decoration-color: #00af00\">0</span> │\n",
              "├──────────────────────────────────────┼─────────────────────────────┼─────────────────┤\n",
              "│ flatten_1 (<span style=\"color: #0087ff; text-decoration-color: #0087ff\">Flatten</span>)                  │ (<span style=\"color: #00d7ff; text-decoration-color: #00d7ff\">None</span>, <span style=\"color: #00af00; text-decoration-color: #00af00\">10816</span>)               │               <span style=\"color: #00af00; text-decoration-color: #00af00\">0</span> │\n",
              "├──────────────────────────────────────┼─────────────────────────────┼─────────────────┤\n",
              "│ dense_2 (<span style=\"color: #0087ff; text-decoration-color: #0087ff\">Dense</span>)                      │ (<span style=\"color: #00d7ff; text-decoration-color: #00d7ff\">None</span>, <span style=\"color: #00af00; text-decoration-color: #00af00\">128</span>)                 │       <span style=\"color: #00af00; text-decoration-color: #00af00\">1,384,576</span> │\n",
              "├──────────────────────────────────────┼─────────────────────────────┼─────────────────┤\n",
              "│ dropout_1 (<span style=\"color: #0087ff; text-decoration-color: #0087ff\">Dropout</span>)                  │ (<span style=\"color: #00d7ff; text-decoration-color: #00d7ff\">None</span>, <span style=\"color: #00af00; text-decoration-color: #00af00\">128</span>)                 │               <span style=\"color: #00af00; text-decoration-color: #00af00\">0</span> │\n",
              "├──────────────────────────────────────┼─────────────────────────────┼─────────────────┤\n",
              "│ dense_3 (<span style=\"color: #0087ff; text-decoration-color: #0087ff\">Dense</span>)                      │ (<span style=\"color: #00d7ff; text-decoration-color: #00d7ff\">None</span>, <span style=\"color: #00af00; text-decoration-color: #00af00\">10</span>)                  │           <span style=\"color: #00af00; text-decoration-color: #00af00\">1,290</span> │\n",
              "└──────────────────────────────────────┴─────────────────────────────┴─────────────────┘\n",
              "</pre>\n"
            ]
          },
          "metadata": {}
        },
        {
          "output_type": "display_data",
          "data": {
            "text/plain": [
              "\u001b[1m Total params: \u001b[0m\u001b[38;5;34m4,158,080\u001b[0m (15.86 MB)\n"
            ],
            "text/html": [
              "<pre style=\"white-space:pre;overflow-x:auto;line-height:normal;font-family:Menlo,'DejaVu Sans Mono',consolas,'Courier New',monospace\"><span style=\"font-weight: bold\"> Total params: </span><span style=\"color: #00af00; text-decoration-color: #00af00\">4,158,080</span> (15.86 MB)\n",
              "</pre>\n"
            ]
          },
          "metadata": {}
        },
        {
          "output_type": "display_data",
          "data": {
            "text/plain": [
              "\u001b[1m Trainable params: \u001b[0m\u001b[38;5;34m1,386,026\u001b[0m (5.29 MB)\n"
            ],
            "text/html": [
              "<pre style=\"white-space:pre;overflow-x:auto;line-height:normal;font-family:Menlo,'DejaVu Sans Mono',consolas,'Courier New',monospace\"><span style=\"font-weight: bold\"> Trainable params: </span><span style=\"color: #00af00; text-decoration-color: #00af00\">1,386,026</span> (5.29 MB)\n",
              "</pre>\n"
            ]
          },
          "metadata": {}
        },
        {
          "output_type": "display_data",
          "data": {
            "text/plain": [
              "\u001b[1m Non-trainable params: \u001b[0m\u001b[38;5;34m0\u001b[0m (0.00 B)\n"
            ],
            "text/html": [
              "<pre style=\"white-space:pre;overflow-x:auto;line-height:normal;font-family:Menlo,'DejaVu Sans Mono',consolas,'Courier New',monospace\"><span style=\"font-weight: bold\"> Non-trainable params: </span><span style=\"color: #00af00; text-decoration-color: #00af00\">0</span> (0.00 B)\n",
              "</pre>\n"
            ]
          },
          "metadata": {}
        },
        {
          "output_type": "display_data",
          "data": {
            "text/plain": [
              "\u001b[1m Optimizer params: \u001b[0m\u001b[38;5;34m2,772,054\u001b[0m (10.57 MB)\n"
            ],
            "text/html": [
              "<pre style=\"white-space:pre;overflow-x:auto;line-height:normal;font-family:Menlo,'DejaVu Sans Mono',consolas,'Courier New',monospace\"><span style=\"font-weight: bold\"> Optimizer params: </span><span style=\"color: #00af00; text-decoration-color: #00af00\">2,772,054</span> (10.57 MB)\n",
              "</pre>\n"
            ]
          },
          "metadata": {}
        }
      ]
    },
    {
      "cell_type": "code",
      "source": [
        "test_scores = model.evaluate(X_test, Y_test, verbose=2)\n",
        "loss_cnn = test_scores[0]*100\n",
        "accuracy_cnn =  test_scores[1]*100\n",
        "print('Test loss:', loss_cnn)\n",
        "print('Test accuracy:', accuracy_cnn)"
      ],
      "metadata": {
        "colab": {
          "base_uri": "https://localhost:8080/"
        },
        "id": "rS3_OtMiVjwi",
        "outputId": "0a5a6974-daba-44f9-897d-3d685d3eac7f"
      },
      "execution_count": null,
      "outputs": [
        {
          "output_type": "stream",
          "name": "stdout",
          "text": [
            "313/313 - 2s - 6ms/step - accuracy: 0.9858 - loss: 0.0636\n",
            "Test loss: 6.363487988710403\n",
            "Test accuracy: 98.580002784729\n"
          ]
        }
      ]
    },
    {
      "cell_type": "code",
      "source": [
        "import matplotlib.pyplot as plt\n",
        "\n",
        "train_acc = history.history['accuracy']\n",
        "val_acc = history.history['val_accuracy']\n",
        "\n",
        "plt.plot(range(1, len(train_acc) + 1), train_acc, label='Training Accuracy')\n",
        "plt.plot(range(1, len(val_acc) + 1), val_acc, label='Validation Accuracy')\n",
        "plt.title('Training and Validation Accuracy')\n",
        "plt.xlabel('Epochs')\n",
        "plt.ylabel('Accuracy')\n",
        "plt.legend()\n",
        "plt.show()"
      ],
      "metadata": {
        "colab": {
          "base_uri": "https://localhost:8080/",
          "height": 472
        },
        "id": "1Uu5-xYIVtJg",
        "outputId": "cc27ae94-6944-4b43-c224-7f3e0fd9b222"
      },
      "execution_count": null,
      "outputs": [
        {
          "output_type": "display_data",
          "data": {
            "text/plain": [
              "<Figure size 640x480 with 1 Axes>"
            ],
            "image/png": "[encoded data removed]"
          },
          "metadata": {}
        }
      ]
    },
    {
      "cell_type": "code",
      "source": [
        "import matplotlib.pyplot as plt\n",
        "\n",
        "train_loss = history.history['loss']\n",
        "val_loss = history.history['val_loss']\n",
        "\n",
        "plt.plot(range(1, len(train_loss) + 1), train_loss, label='Training Loss')\n",
        "plt.plot(range(1, len(val_loss) + 1), val_loss, label='Validation Loss')\n",
        "plt.title('Training and Validation Loss')\n",
        "plt.xlabel('Epochs')\n",
        "plt.ylabel('Loss')\n",
        "plt.legend()\n",
        "plt.show()"
      ],
      "metadata": {
        "colab": {
          "base_uri": "https://localhost:8080/",
          "height": 472
        },
        "id": "UrzUdS30V1tA",
        "outputId": "d32170f2-3d90-4f7c-de37-c38ee3c63480"
      },
      "execution_count": null,
      "outputs": [
        {
          "output_type": "display_data",
          "data": {
            "text/plain": [
              "<Figure size 640x480 with 1 Axes>"
            ],
            "image/png": "[encoded data removed]"
          },
          "metadata": {}
        }
      ]
    },
    {
      "cell_type": "code",
      "source": [
        "import time\n",
        "import numpy as np\n",
        "\n",
        "# Measure total time and epoch time\n",
        "epoch_times = []\n",
        "total_start = time.time()\n",
        "\n",
        "for epoch in range(30):\n",
        "    print(f\"\\nEpoch {epoch+1}/30\")\n",
        "    start = time.time()\n",
        "    history_epoch = model.fit(X_train, Y_train, batch_size=128, epochs=1, validation_data=(X_test, Y_test), verbose=1)\n",
        "    end = time.time()\n",
        "    epoch_duration = end - start\n",
        "    epoch_times.append(epoch_duration)\n",
        "    print(f\"Epoch Time: {epoch_duration:.2f} seconds\")\n",
        "\n",
        "total_end = time.time()\n",
        "total_time = total_end - total_start\n",
        "avg_epoch_time = np.mean(epoch_times)\n",
        "avg_step_time = (avg_epoch_time * 128) / X_train.shape[0]\n",
        "\n",
        "# Evaluate final test performance\n",
        "test_scores = model.evaluate(X_test, Y_test, verbose=2)\n",
        "loss_cnn = test_scores[0] * 100\n",
        "accuracy_cnn = test_scores[1] * 100\n",
        "\n",
        "# Print results\n",
        "print(\"\\n--- Final Metrics ---\")\n",
        "print(f\"Test Loss: {loss_cnn:.2f}\")\n",
        "print(f\"Test Accuracy: {accuracy_cnn:.2f}%\")\n",
        "print(f\"Total Training Time: {total_time:.2f} seconds\")\n",
        "print(f\"Average Epoch Time: {avg_epoch_time:.2f} seconds\")\n",
        "print(f\"Step Time (approximate per batch): {avg_step_time:.4f} seconds\")\n"
      ],
      "metadata": {
        "colab": {
          "base_uri": "https://localhost:8080/"
        },
        "id": "zmJ1vQDnV96m",
        "outputId": "c08df083-85bb-4c31-e1a4-fbb76bb83631"
      },
      "execution_count": null,
      "outputs": [
        {
          "output_type": "stream",
          "name": "stdout",
          "text": [
            "\n",
            "Epoch 1/30\n",
            "\u001b[1m469/469\u001b[0m \u001b[32m━━━━━━━━━━━━━━━━━━━━\u001b[0m\u001b[37m\u001b[0m \u001b[1m32s\u001b[0m 69ms/step - accuracy: 0.9963 - loss: 0.0105 - val_accuracy: 0.9864 - val_loss: 0.0605\n",
            "Epoch Time: 41.90 seconds\n",
            "\n",
            "Epoch 2/30\n",
            "\u001b[1m469/469\u001b[0m \u001b[32m━━━━━━━━━━━━━━━━━━━━\u001b[0m\u001b[37m\u001b[0m \u001b[1m32s\u001b[0m 69ms/step - accuracy: 0.9966 - loss: 0.0105 - val_accuracy: 0.9870 - val_loss: 0.0591\n",
            "Epoch Time: 32.72 seconds\n",
            "\n",
            "Epoch 3/30\n",
            "\u001b[1m469/469\u001b[0m \u001b[32m━━━━━━━━━━━━━━━━━━━━\u001b[0m\u001b[37m\u001b[0m \u001b[1m32s\u001b[0m 67ms/step - accuracy: 0.9969 - loss: 0.0093 - val_accuracy: 0.9865 - val_loss: 0.0648\n",
            "Epoch Time: 41.33 seconds\n",
            "\n",
            "Epoch 4/30\n",
            "\u001b[1m469/469\u001b[0m \u001b[32m━━━━━━━━━━━━━━━━━━━━\u001b[0m\u001b[37m\u001b[0m \u001b[1m32s\u001b[0m 69ms/step - accuracy: 0.9969 - loss: 0.0096 - val_accuracy: 0.9873 - val_loss: 0.0615\n",
            "Epoch Time: 41.39 seconds\n",
            "\n",
            "Epoch 5/30\n",
            "\u001b[1m469/469\u001b[0m \u001b[32m━━━━━━━━━━━━━━━━━━━━\u001b[0m\u001b[37m\u001b[0m \u001b[1m32s\u001b[0m 68ms/step - accuracy: 0.9967 - loss: 0.0094 - val_accuracy: 0.9876 - val_loss: 0.0618\n",
            "Epoch Time: 41.26 seconds\n",
            "\n",
            "Epoch 6/30\n",
            "\u001b[1m469/469\u001b[0m \u001b[32m━━━━━━━━━━━━━━━━━━━━\u001b[0m\u001b[37m\u001b[0m \u001b[1m32s\u001b[0m 68ms/step - accuracy: 0.9969 - loss: 0.0087 - val_accuracy: 0.9868 - val_loss: 0.0632\n",
            "Epoch Time: 32.42 seconds\n",
            "\n",
            "Epoch 7/30\n",
            "\u001b[1m469/469\u001b[0m \u001b[32m━━━━━━━━━━━━━━━━━━━━\u001b[0m\u001b[37m\u001b[0m \u001b[1m31s\u001b[0m 66ms/step - accuracy: 0.9976 - loss: 0.0074 - val_accuracy: 0.9870 - val_loss: 0.0617\n",
            "Epoch Time: 31.40 seconds\n",
            "\n",
            "Epoch 8/30\n",
            "\u001b[1m469/469\u001b[0m \u001b[32m━━━━━━━━━━━━━━━━━━━━\u001b[0m\u001b[37m\u001b[0m \u001b[1m32s\u001b[0m 68ms/step - accuracy: 0.9971 - loss: 0.0081 - val_accuracy: 0.9873 - val_loss: 0.0682\n",
            "Epoch Time: 41.25 seconds\n",
            "\n",
            "Epoch 9/30\n",
            "\u001b[1m469/469\u001b[0m \u001b[32m━━━━━━━━━━━━━━━━━━━━\u001b[0m\u001b[37m\u001b[0m \u001b[1m31s\u001b[0m 67ms/step - accuracy: 0.9970 - loss: 0.0100 - val_accuracy: 0.9860 - val_loss: 0.0654\n",
            "Epoch Time: 41.35 seconds\n",
            "\n",
            "Epoch 10/30\n",
            "\u001b[1m469/469\u001b[0m \u001b[32m━━━━━━━━━━━━━━━━━━━━\u001b[0m\u001b[37m\u001b[0m \u001b[1m32s\u001b[0m 69ms/step - accuracy: 0.9972 - loss: 0.0084 - val_accuracy: 0.9863 - val_loss: 0.0712\n",
            "Epoch Time: 41.25 seconds\n",
            "\n",
            "Epoch 11/30\n",
            "\u001b[1m469/469\u001b[0m \u001b[32m━━━━━━━━━━━━━━━━━━━━\u001b[0m\u001b[37m\u001b[0m \u001b[1m32s\u001b[0m 68ms/step - accuracy: 0.9968 - loss: 0.0085 - val_accuracy: 0.9877 - val_loss: 0.0656\n",
            "Epoch Time: 41.25 seconds\n",
            "\n",
            "Epoch 12/30\n",
            "\u001b[1m469/469\u001b[0m \u001b[32m━━━━━━━━━━━━━━━━━━━━\u001b[0m\u001b[37m\u001b[0m \u001b[1m33s\u001b[0m 71ms/step - accuracy: 0.9975 - loss: 0.0069 - val_accuracy: 0.9876 - val_loss: 0.0658\n",
            "Epoch Time: 33.69 seconds\n",
            "\n",
            "Epoch 13/30\n",
            "\u001b[1m469/469\u001b[0m \u001b[32m━━━━━━━━━━━━━━━━━━━━\u001b[0m\u001b[37m\u001b[0m \u001b[1m32s\u001b[0m 67ms/step - accuracy: 0.9972 - loss: 0.0079 - val_accuracy: 0.9884 - val_loss: 0.0626\n",
            "Epoch Time: 41.36 seconds\n",
            "\n",
            "Epoch 14/30\n",
            "\u001b[1m469/469\u001b[0m \u001b[32m━━━━━━━━━━━━━━━━━━━━\u001b[0m\u001b[37m\u001b[0m \u001b[1m33s\u001b[0m 71ms/step - accuracy: 0.9975 - loss: 0.0069 - val_accuracy: 0.9877 - val_loss: 0.0650\n",
            "Epoch Time: 41.40 seconds\n",
            "\n",
            "Epoch 15/30\n",
            "\u001b[1m469/469\u001b[0m \u001b[32m━━━━━━━━━━━━━━━━━━━━\u001b[0m\u001b[37m\u001b[0m \u001b[1m31s\u001b[0m 66ms/step - accuracy: 0.9976 - loss: 0.0065 - val_accuracy: 0.9859 - val_loss: 0.0761\n",
            "Epoch Time: 31.52 seconds\n",
            "\n",
            "Epoch 16/30\n",
            "\u001b[1m469/469\u001b[0m \u001b[32m━━━━━━━━━━━━━━━━━━━━\u001b[0m\u001b[37m\u001b[0m \u001b[1m32s\u001b[0m 69ms/step - accuracy: 0.9979 - loss: 0.0072 - val_accuracy: 0.9881 - val_loss: 0.0635\n",
            "Epoch Time: 32.71 seconds\n",
            "\n",
            "Epoch 17/30\n",
            "\u001b[1m469/469\u001b[0m \u001b[32m━━━━━━━━━━━━━━━━━━━━\u001b[0m\u001b[37m\u001b[0m \u001b[1m31s\u001b[0m 66ms/step - accuracy: 0.9975 - loss: 0.0082 - val_accuracy: 0.9879 - val_loss: 0.0657\n",
            "Epoch Time: 31.45 seconds\n",
            "\n",
            "Epoch 18/30\n",
            "\u001b[1m469/469\u001b[0m \u001b[32m━━━━━━━━━━━━━━━━━━━━\u001b[0m\u001b[37m\u001b[0m \u001b[1m33s\u001b[0m 69ms/step - accuracy: 0.9981 - loss: 0.0053 - val_accuracy: 0.9870 - val_loss: 0.0669\n",
            "Epoch Time: 32.87 seconds\n",
            "\n",
            "Epoch 19/30\n",
            "\u001b[1m469/469\u001b[0m \u001b[32m━━━━━━━━━━━━━━━━━━━━\u001b[0m\u001b[37m\u001b[0m \u001b[1m32s\u001b[0m 67ms/step - accuracy: 0.9978 - loss: 0.0061 - val_accuracy: 0.9880 - val_loss: 0.0656\n",
            "Epoch Time: 41.39 seconds\n",
            "\n",
            "Epoch 20/30\n",
            "\u001b[1m469/469\u001b[0m \u001b[32m━━━━━━━━━━━━━━━━━━━━\u001b[0m\u001b[37m\u001b[0m \u001b[1m32s\u001b[0m 69ms/step - accuracy: 0.9979 - loss: 0.0066 - val_accuracy: 0.9869 - val_loss: 0.0731\n",
            "Epoch Time: 41.40 seconds\n",
            "\n",
            "Epoch 21/30\n",
            "\u001b[1m469/469\u001b[0m \u001b[32m━━━━━━━━━━━━━━━━━━━━\u001b[0m\u001b[37m\u001b[0m \u001b[1m32s\u001b[0m 69ms/step - accuracy: 0.9978 - loss: 0.0067 - val_accuracy: 0.9874 - val_loss: 0.0715\n",
            "Epoch Time: 41.27 seconds\n",
            "\n",
            "Epoch 22/30\n",
            "\u001b[1m469/469\u001b[0m \u001b[32m━━━━━━━━━━━━━━━━━━━━\u001b[0m\u001b[37m\u001b[0m \u001b[1m31s\u001b[0m 67ms/step - accuracy: 0.9980 - loss: 0.0063 - val_accuracy: 0.9883 - val_loss: 0.0710\n",
            "Epoch Time: 41.33 seconds\n",
            "\n",
            "Epoch 23/30\n",
            "\u001b[1m469/469\u001b[0m \u001b[32m━━━━━━━━━━━━━━━━━━━━\u001b[0m\u001b[37m\u001b[0m \u001b[1m31s\u001b[0m 66ms/step - accuracy: 0.9978 - loss: 0.0059 - val_accuracy: 0.9881 - val_loss: 0.0677\n",
            "Epoch Time: 41.26 seconds\n",
            "\n",
            "Epoch 24/30\n",
            "\u001b[1m469/469\u001b[0m \u001b[32m━━━━━━━━━━━━━━━━━━━━\u001b[0m\u001b[37m\u001b[0m \u001b[1m33s\u001b[0m 71ms/step - accuracy: 0.9975 - loss: 0.0064 - val_accuracy: 0.9871 - val_loss: 0.0726\n",
            "Epoch Time: 33.82 seconds\n",
            "\n",
            "Epoch 25/30\n",
            "\u001b[1m469/469\u001b[0m \u001b[32m━━━━━━━━━━━━━━━━━━━━\u001b[0m\u001b[37m\u001b[0m \u001b[1m31s\u001b[0m 66ms/step - accuracy: 0.9981 - loss: 0.0057 - val_accuracy: 0.9869 - val_loss: 0.0718\n",
            "Epoch Time: 41.26 seconds\n",
            "\n",
            "Epoch 26/30\n",
            "\u001b[1m469/469\u001b[0m \u001b[32m━━━━━━━━━━━━━━━━━━━━\u001b[0m\u001b[37m\u001b[0m \u001b[1m33s\u001b[0m 71ms/step - accuracy: 0.9983 - loss: 0.0056 - val_accuracy: 0.9877 - val_loss: 0.0743\n",
            "Epoch Time: 41.39 seconds\n",
            "\n",
            "Epoch 27/30\n",
            "\u001b[1m469/469\u001b[0m \u001b[32m━━━━━━━━━━━━━━━━━━━━\u001b[0m\u001b[37m\u001b[0m \u001b[1m33s\u001b[0m 71ms/step - accuracy: 0.9985 - loss: 0.0045 - val_accuracy: 0.9880 - val_loss: 0.0689\n",
            "Epoch Time: 33.63 seconds\n",
            "\n",
            "Epoch 28/30\n",
            "\u001b[1m469/469\u001b[0m \u001b[32m━━━━━━━━━━━━━━━━━━━━\u001b[0m\u001b[37m\u001b[0m \u001b[1m32s\u001b[0m 69ms/step - accuracy: 0.9979 - loss: 0.0061 - val_accuracy: 0.9887 - val_loss: 0.0709\n",
            "Epoch Time: 32.79 seconds\n",
            "\n",
            "Epoch 29/30\n",
            "\u001b[1m469/469\u001b[0m \u001b[32m━━━━━━━━━━━━━━━━━━━━\u001b[0m\u001b[37m\u001b[0m \u001b[1m31s\u001b[0m 66ms/step - accuracy: 0.9982 - loss: 0.0051 - val_accuracy: 0.9874 - val_loss: 0.0789\n",
            "Epoch Time: 31.54 seconds\n",
            "\n",
            "Epoch 30/30\n",
            "\u001b[1m469/469\u001b[0m \u001b[32m━━━━━━━━━━━━━━━━━━━━\u001b[0m\u001b[37m\u001b[0m \u001b[1m32s\u001b[0m 69ms/step - accuracy: 0.9982 - loss: 0.0053 - val_accuracy: 0.9878 - val_loss: 0.0722\n",
            "Epoch Time: 32.69 seconds\n",
            "313/313 - 2s - 6ms/step - accuracy: 0.9878 - loss: 0.0722\n",
            "\n",
            "--- Final Metrics ---\n",
            "Test Loss: 7.22\n",
            "Test Accuracy: 98.78%\n",
            "Total Training Time: 1126.31 seconds\n",
            "Average Epoch Time: 37.54 seconds\n",
            "Step Time (approximate per batch): 0.0801 seconds\n"
          ]
        }
      ]
    },
    {
      "cell_type": "code",
      "source": [
        "import time\n",
        "import numpy as np\n",
        "\n",
        "# Use 50% of training data\n",
        "X_train_half = X_train[:len(X_train)//2]\n",
        "Y_train_half = Y_train[:len(Y_train)//2]\n",
        "\n",
        "# Measure total time and epoch time\n",
        "epoch_times = []\n",
        "total_start = time.time()\n",
        "\n",
        "for epoch in range(30):\n",
        "    print(f\"\\nEpoch {epoch+1}/30\")\n",
        "    start = time.time()\n",
        "    history_epoch = model.fit(X_train_half, Y_train_half, batch_size=128, epochs=1, validation_data=(X_test, Y_test), verbose=1)\n",
        "    end = time.time()\n",
        "    epoch_duration = end - start\n",
        "    epoch_times.append(epoch_duration)\n",
        "    print(f\"Epoch Time: {epoch_duration:.2f} seconds\")\n",
        "\n",
        "total_end = time.time()\n",
        "total_time = total_end - total_start\n",
        "avg_epoch_time = np.mean(epoch_times)\n",
        "avg_step_time = (avg_epoch_time * 128) / len(X_train_half)\n",
        "\n",
        "# Evaluate final test performance\n",
        "test_scores = model.evaluate(X_test, Y_test, verbose=2)\n",
        "loss_cnn = test_scores[0] * 100\n",
        "accuracy_cnn = test_scores[1] * 100\n",
        "\n",
        "# Print results\n",
        "print(\"\\n--- Final Metrics (50% Training Data) ---\")\n",
        "print(f\"Test Loss: {loss_cnn:.2f}\")\n",
        "print(f\"Test Accuracy: {accuracy_cnn:.2f}%\")\n",
        "print(f\"Total Training Time: {total_time:.2f} seconds\")\n",
        "print(f\"Average Epoch Time: {avg_epoch_time:.2f} seconds\")\n",
        "print(f\"Step Time (approximate per batch): {avg_step_time:.4f} seconds\")\n"
      ],
      "metadata": {
        "colab": {
          "base_uri": "https://localhost:8080/"
        },
        "id": "T-IK3dHDbQQF",
        "outputId": "4ae54f13-f97c-40c8-feb8-e4fb8911e439"
      },
      "execution_count": null,
      "outputs": [
        {
          "output_type": "stream",
          "name": "stdout",
          "text": [
            "\n",
            "Epoch 1/30\n",
            "\u001b[1m235/235\u001b[0m \u001b[32m━━━━━━━━━━━━━━━━━━━━\u001b[0m\u001b[37m\u001b[0m \u001b[1m16s\u001b[0m 69ms/step - accuracy: 0.9989 - loss: 0.0032 - val_accuracy: 0.9877 - val_loss: 0.0743\n",
            "Epoch Time: 20.66 seconds\n",
            "\n",
            "Epoch 2/30\n",
            "\u001b[1m235/235\u001b[0m \u001b[32m━━━━━━━━━━━━━━━━━━━━\u001b[0m\u001b[37m\u001b[0m \u001b[1m16s\u001b[0m 69ms/step - accuracy: 0.9981 - loss: 0.0047 - val_accuracy: 0.9878 - val_loss: 0.0775\n",
            "Epoch Time: 16.37 seconds\n",
            "\n",
            "Epoch 3/30\n",
            "\u001b[1m235/235\u001b[0m \u001b[32m━━━━━━━━━━━━━━━━━━━━\u001b[0m\u001b[37m\u001b[0m \u001b[1m16s\u001b[0m 69ms/step - accuracy: 0.9986 - loss: 0.0039 - val_accuracy: 0.9875 - val_loss: 0.0783\n",
            "Epoch Time: 16.35 seconds\n",
            "\n",
            "Epoch 4/30\n",
            "\u001b[1m235/235\u001b[0m \u001b[32m━━━━━━━━━━━━━━━━━━━━\u001b[0m\u001b[37m\u001b[0m \u001b[1m18s\u001b[0m 78ms/step - accuracy: 0.9987 - loss: 0.0050 - val_accuracy: 0.9883 - val_loss: 0.0733\n",
            "Epoch Time: 18.50 seconds\n",
            "\n",
            "Epoch 5/30\n",
            "\u001b[1m235/235\u001b[0m \u001b[32m━━━━━━━━━━━━━━━━━━━━\u001b[0m\u001b[37m\u001b[0m \u001b[1m16s\u001b[0m 69ms/step - accuracy: 0.9982 - loss: 0.0054 - val_accuracy: 0.9877 - val_loss: 0.0704\n",
            "Epoch Time: 20.65 seconds\n",
            "\n",
            "Epoch 6/30\n",
            "\u001b[1m235/235\u001b[0m \u001b[32m━━━━━━━━━━━━━━━━━━━━\u001b[0m\u001b[37m\u001b[0m \u001b[1m19s\u001b[0m 79ms/step - accuracy: 0.9988 - loss: 0.0034 - val_accuracy: 0.9883 - val_loss: 0.0753\n",
            "Epoch Time: 18.71 seconds\n",
            "\n",
            "Epoch 7/30\n",
            "\u001b[1m235/235\u001b[0m \u001b[32m━━━━━━━━━━━━━━━━━━━━\u001b[0m\u001b[37m\u001b[0m \u001b[1m18s\u001b[0m 75ms/step - accuracy: 0.9988 - loss: 0.0037 - val_accuracy: 0.9864 - val_loss: 0.0886\n",
            "Epoch Time: 17.94 seconds\n",
            "\n",
            "Epoch 8/30\n",
            "\u001b[1m235/235\u001b[0m \u001b[32m━━━━━━━━━━━━━━━━━━━━\u001b[0m\u001b[37m\u001b[0m \u001b[1m18s\u001b[0m 76ms/step - accuracy: 0.9988 - loss: 0.0034 - val_accuracy: 0.9868 - val_loss: 0.0793\n",
            "Epoch Time: 20.69 seconds\n",
            "\n",
            "Epoch 9/30\n",
            "\u001b[1m235/235\u001b[0m \u001b[32m━━━━━━━━━━━━━━━━━━━━\u001b[0m\u001b[37m\u001b[0m \u001b[1m18s\u001b[0m 75ms/step - accuracy: 0.9982 - loss: 0.0053 - val_accuracy: 0.9871 - val_loss: 0.0751\n",
            "Epoch Time: 20.67 seconds\n",
            "\n",
            "Epoch 10/30\n",
            "\u001b[1m235/235\u001b[0m \u001b[32m━━━━━━━━━━━━━━━━━━━━\u001b[0m\u001b[37m\u001b[0m \u001b[1m18s\u001b[0m 75ms/step - accuracy: 0.9985 - loss: 0.0037 - val_accuracy: 0.9870 - val_loss: 0.0847\n",
            "Epoch Time: 20.75 seconds\n",
            "\n",
            "Epoch 11/30\n",
            "\u001b[1m235/235\u001b[0m \u001b[32m━━━━━━━━━━━━━━━━━━━━\u001b[0m\u001b[37m\u001b[0m \u001b[1m18s\u001b[0m 76ms/step - accuracy: 0.9985 - loss: 0.0045 - val_accuracy: 0.9879 - val_loss: 0.0780\n",
            "Epoch Time: 20.74 seconds\n",
            "\n",
            "Epoch 12/30\n",
            "\u001b[1m235/235\u001b[0m \u001b[32m━━━━━━━━━━━━━━━━━━━━\u001b[0m\u001b[37m\u001b[0m \u001b[1m16s\u001b[0m 70ms/step - accuracy: 0.9985 - loss: 0.0035 - val_accuracy: 0.9885 - val_loss: 0.0775\n",
            "Epoch Time: 20.66 seconds\n",
            "\n",
            "Epoch 13/30\n",
            "\u001b[1m235/235\u001b[0m \u001b[32m━━━━━━━━━━━━━━━━━━━━\u001b[0m\u001b[37m\u001b[0m \u001b[1m18s\u001b[0m 77ms/step - accuracy: 0.9986 - loss: 0.0045 - val_accuracy: 0.9873 - val_loss: 0.0840\n",
            "Epoch Time: 18.45 seconds\n",
            "\n",
            "Epoch 14/30\n",
            "\u001b[1m235/235\u001b[0m \u001b[32m━━━━━━━━━━━━━━━━━━━━\u001b[0m\u001b[37m\u001b[0m \u001b[1m18s\u001b[0m 76ms/step - accuracy: 0.9977 - loss: 0.0055 - val_accuracy: 0.9872 - val_loss: 0.0839\n",
            "Epoch Time: 20.71 seconds\n",
            "\n",
            "Epoch 15/30\n",
            "\u001b[1m235/235\u001b[0m \u001b[32m━━━━━━━━━━━━━━━━━━━━\u001b[0m\u001b[37m\u001b[0m \u001b[1m18s\u001b[0m 75ms/step - accuracy: 0.9988 - loss: 0.0035 - val_accuracy: 0.9876 - val_loss: 0.0789\n",
            "Epoch Time: 20.66 seconds\n",
            "\n",
            "Epoch 16/30\n",
            "\u001b[1m235/235\u001b[0m \u001b[32m━━━━━━━━━━━━━━━━━━━━\u001b[0m\u001b[37m\u001b[0m \u001b[1m18s\u001b[0m 77ms/step - accuracy: 0.9985 - loss: 0.0037 - val_accuracy: 0.9880 - val_loss: 0.0779\n",
            "Epoch Time: 18.27 seconds\n",
            "\n",
            "Epoch 17/30\n",
            "\u001b[1m235/235\u001b[0m \u001b[32m━━━━━━━━━━━━━━━━━━━━\u001b[0m\u001b[37m\u001b[0m \u001b[1m18s\u001b[0m 75ms/step - accuracy: 0.9989 - loss: 0.0028 - val_accuracy: 0.9867 - val_loss: 0.0852\n",
            "Epoch Time: 20.65 seconds\n",
            "\n",
            "Epoch 18/30\n",
            "\u001b[1m235/235\u001b[0m \u001b[32m━━━━━━━━━━━━━━━━━━━━\u001b[0m\u001b[37m\u001b[0m \u001b[1m17s\u001b[0m 74ms/step - accuracy: 0.9991 - loss: 0.0028 - val_accuracy: 0.9868 - val_loss: 0.0850\n",
            "Epoch Time: 17.64 seconds\n",
            "\n",
            "Epoch 19/30\n",
            "\u001b[1m235/235\u001b[0m \u001b[32m━━━━━━━━━━━━━━━━━━━━\u001b[0m\u001b[37m\u001b[0m \u001b[1m18s\u001b[0m 75ms/step - accuracy: 0.9992 - loss: 0.0032 - val_accuracy: 0.9875 - val_loss: 0.0820\n",
            "Epoch Time: 20.66 seconds\n",
            "\n",
            "Epoch 20/30\n",
            "\u001b[1m235/235\u001b[0m \u001b[32m━━━━━━━━━━━━━━━━━━━━\u001b[0m\u001b[37m\u001b[0m \u001b[1m18s\u001b[0m 78ms/step - accuracy: 0.9986 - loss: 0.0039 - val_accuracy: 0.9872 - val_loss: 0.0875\n",
            "Epoch Time: 20.74 seconds\n",
            "\n",
            "Epoch 21/30\n",
            "\u001b[1m235/235\u001b[0m \u001b[32m━━━━━━━━━━━━━━━━━━━━\u001b[0m\u001b[37m\u001b[0m \u001b[1m18s\u001b[0m 75ms/step - accuracy: 0.9989 - loss: 0.0033 - val_accuracy: 0.9874 - val_loss: 0.0861\n",
            "Epoch Time: 20.68 seconds\n",
            "\n",
            "Epoch 22/30\n",
            "\u001b[1m235/235\u001b[0m \u001b[32m━━━━━━━━━━━━━━━━━━━━\u001b[0m\u001b[37m\u001b[0m \u001b[1m18s\u001b[0m 76ms/step - accuracy: 0.9989 - loss: 0.0030 - val_accuracy: 0.9883 - val_loss: 0.0868\n",
            "Epoch Time: 20.70 seconds\n",
            "\n",
            "Epoch 23/30\n",
            "\u001b[1m235/235\u001b[0m \u001b[32m━━━━━━━━━━━━━━━━━━━━\u001b[0m\u001b[37m\u001b[0m \u001b[1m18s\u001b[0m 77ms/step - accuracy: 0.9982 - loss: 0.0047 - val_accuracy: 0.9877 - val_loss: 0.0778\n",
            "Epoch Time: 20.73 seconds\n",
            "\n",
            "Epoch 24/30\n",
            "\u001b[1m235/235\u001b[0m \u001b[32m━━━━━━━━━━━━━━━━━━━━\u001b[0m\u001b[37m\u001b[0m \u001b[1m16s\u001b[0m 70ms/step - accuracy: 0.9986 - loss: 0.0034 - val_accuracy: 0.9872 - val_loss: 0.0895\n",
            "Epoch Time: 20.74 seconds\n",
            "\n",
            "Epoch 25/30\n",
            "\u001b[1m235/235\u001b[0m \u001b[32m━━━━━━━━━━━━━━━━━━━━\u001b[0m\u001b[37m\u001b[0m \u001b[1m19s\u001b[0m 79ms/step - accuracy: 0.9986 - loss: 0.0037 - val_accuracy: 0.9864 - val_loss: 0.0897\n",
            "Epoch Time: 20.78 seconds\n",
            "\n",
            "Epoch 26/30\n",
            "\u001b[1m235/235\u001b[0m \u001b[32m━━━━━━━━━━━━━━━━━━━━\u001b[0m\u001b[37m\u001b[0m \u001b[1m18s\u001b[0m 77ms/step - accuracy: 0.9990 - loss: 0.0027 - val_accuracy: 0.9874 - val_loss: 0.0874\n",
            "Epoch Time: 18.28 seconds\n",
            "\n",
            "Epoch 27/30\n",
            "\u001b[1m235/235\u001b[0m \u001b[32m━━━━━━━━━━━━━━━━━━━━\u001b[0m\u001b[37m\u001b[0m \u001b[1m17s\u001b[0m 70ms/step - accuracy: 0.9992 - loss: 0.0026 - val_accuracy: 0.9877 - val_loss: 0.0850\n",
            "Epoch Time: 16.87 seconds\n",
            "\n",
            "Epoch 28/30\n",
            "\u001b[1m235/235\u001b[0m \u001b[32m━━━━━━━━━━━━━━━━━━━━\u001b[0m\u001b[37m\u001b[0m \u001b[1m18s\u001b[0m 76ms/step - accuracy: 0.9991 - loss: 0.0026 - val_accuracy: 0.9879 - val_loss: 0.0898\n",
            "Epoch Time: 17.96 seconds\n",
            "\n",
            "Epoch 29/30\n",
            "\u001b[1m235/235\u001b[0m \u001b[32m━━━━━━━━━━━━━━━━━━━━\u001b[0m\u001b[37m\u001b[0m \u001b[1m18s\u001b[0m 75ms/step - accuracy: 0.9986 - loss: 0.0035 - val_accuracy: 0.9871 - val_loss: 0.0895\n",
            "Epoch Time: 17.90 seconds\n",
            "\n",
            "Epoch 30/30\n",
            "\u001b[1m235/235\u001b[0m \u001b[32m━━━━━━━━━━━━━━━━━━━━\u001b[0m\u001b[37m\u001b[0m \u001b[1m18s\u001b[0m 76ms/step - accuracy: 0.9991 - loss: 0.0032 - val_accuracy: 0.9879 - val_loss: 0.0863\n",
            "Epoch Time: 20.65 seconds\n",
            "313/313 - 2s - 7ms/step - accuracy: 0.9879 - loss: 0.0863\n",
            "\n",
            "--- Final Metrics (50% Training Data) ---\n",
            "Test Loss: 8.63\n",
            "Test Accuracy: 98.79%\n",
            "Total Training Time: 585.76 seconds\n",
            "Average Epoch Time: 19.53 seconds\n",
            "Step Time (approximate per batch): 0.0833 seconds\n"
          ]
        }
      ]
    },
    {
      "cell_type": "code",
      "source": [
        "import time\n",
        "import numpy as np\n",
        "\n",
        "# Use 25% of training data\n",
        "X_train_quarter = X_train[:len(X_train)//4]\n",
        "Y_train_quarter = Y_train[:len(Y_train)//4]\n",
        "\n",
        "# Measure total time and epoch time\n",
        "epoch_times = []\n",
        "total_start = time.time()\n",
        "\n",
        "for epoch in range(30):\n",
        "    print(f\"\\nEpoch {epoch+1}/30\")\n",
        "    start = time.time()\n",
        "    history_epoch = model.fit(X_train_quarter, Y_train_quarter, batch_size=128, epochs=1, validation_data=(X_test, Y_test), verbose=1)\n",
        "    end = time.time()\n",
        "    epoch_duration = end - start\n",
        "    epoch_times.append(epoch_duration)\n",
        "    print(f\"Epoch Time: {epoch_duration:.2f} seconds\")\n",
        "\n",
        "total_end = time.time()\n",
        "total_time = total_end - total_start\n",
        "avg_epoch_time = np.mean(epoch_times)\n",
        "avg_step_time = (avg_epoch_time * 128) / len(X_train_quarter)\n",
        "\n",
        "# Evaluate final test performance\n",
        "test_scores = model.evaluate(X_test, Y_test, verbose=2)\n",
        "loss_cnn = test_scores[0] * 100\n",
        "accuracy_cnn = test_scores[1] * 100\n",
        "\n",
        "# Print results\n",
        "print(\"\\n--- Final Metrics (25% Training Data) ---\")\n",
        "print(f\"Test Loss: {loss_cnn:.2f}\")\n",
        "print(f\"Test Accuracy: {accuracy_cnn:.2f}%\")\n",
        "print(f\"Total Training Time: {total_time:.2f} seconds\")\n",
        "print(f\"Average Epoch Time: {avg_epoch_time:.2f} seconds\")\n",
        "print(f\"Step Time (approximate per batch): {avg_step_time:.4f} seconds\")\n"
      ],
      "metadata": {
        "colab": {
          "base_uri": "https://localhost:8080/"
        },
        "id": "_Io_tCbYd4Cn",
        "outputId": "9eef329b-23c8-4dd4-af68-74e016732bd2"
      },
      "execution_count": null,
      "outputs": [
        {
          "output_type": "stream",
          "name": "stdout",
          "text": [
            "\n",
            "Epoch 1/30\n",
            "\u001b[1m118/118\u001b[0m \u001b[32m━━━━━━━━━━━━━━━━━━━━\u001b[0m\u001b[37m\u001b[0m \u001b[1m11s\u001b[0m 91ms/step - accuracy: 0.9993 - loss: 0.0025 - val_accuracy: 0.9877 - val_loss: 0.0908\n",
            "Epoch Time: 10.92 seconds\n",
            "\n",
            "Epoch 2/30\n",
            "\u001b[1m118/118\u001b[0m \u001b[32m━━━━━━━━━━━━━━━━━━━━\u001b[0m\u001b[37m\u001b[0m \u001b[1m10s\u001b[0m 81ms/step - accuracy: 0.9993 - loss: 0.0033 - val_accuracy: 0.9871 - val_loss: 0.0929\n",
            "Epoch Time: 10.35 seconds\n",
            "\n",
            "Epoch 3/30\n",
            "\u001b[1m118/118\u001b[0m \u001b[32m━━━━━━━━━━━━━━━━━━━━\u001b[0m\u001b[37m\u001b[0m \u001b[1m8s\u001b[0m 70ms/step - accuracy: 0.9990 - loss: 0.0022 - val_accuracy: 0.9873 - val_loss: 0.0922\n",
            "Epoch Time: 10.35 seconds\n",
            "\n",
            "Epoch 4/30\n",
            "\u001b[1m118/118\u001b[0m \u001b[32m━━━━━━━━━━━━━━━━━━━━\u001b[0m\u001b[37m\u001b[0m \u001b[1m10s\u001b[0m 83ms/step - accuracy: 0.9987 - loss: 0.0034 - val_accuracy: 0.9871 - val_loss: 0.0995\n",
            "Epoch Time: 10.43 seconds\n",
            "\n",
            "Epoch 5/30\n",
            "\u001b[1m118/118\u001b[0m \u001b[32m━━━━━━━━━━━━━━━━━━━━\u001b[0m\u001b[37m\u001b[0m \u001b[1m9s\u001b[0m 80ms/step - accuracy: 0.9985 - loss: 0.0039 - val_accuracy: 0.9876 - val_loss: 0.0939\n",
            "Epoch Time: 10.36 seconds\n",
            "\n",
            "Epoch 6/30\n",
            "\u001b[1m118/118\u001b[0m \u001b[32m━━━━━━━━━━━━━━━━━━━━\u001b[0m\u001b[37m\u001b[0m \u001b[1m11s\u001b[0m 91ms/step - accuracy: 0.9989 - loss: 0.0030 - val_accuracy: 0.9873 - val_loss: 0.1024\n",
            "Epoch Time: 20.59 seconds\n",
            "\n",
            "Epoch 7/30\n",
            "\u001b[1m118/118\u001b[0m \u001b[32m━━━━━━━━━━━━━━━━━━━━\u001b[0m\u001b[37m\u001b[0m \u001b[1m10s\u001b[0m 81ms/step - accuracy: 0.9995 - loss: 0.0017 - val_accuracy: 0.9880 - val_loss: 0.0982\n",
            "Epoch Time: 9.77 seconds\n",
            "\n",
            "Epoch 8/30\n",
            "\u001b[1m118/118\u001b[0m \u001b[32m━━━━━━━━━━━━━━━━━━━━\u001b[0m\u001b[37m\u001b[0m \u001b[1m8s\u001b[0m 71ms/step - accuracy: 0.9994 - loss: 0.0024 - val_accuracy: 0.9879 - val_loss: 0.0973\n",
            "Epoch Time: 8.52 seconds\n",
            "\n",
            "Epoch 9/30\n",
            "\u001b[1m118/118\u001b[0m \u001b[32m━━━━━━━━━━━━━━━━━━━━\u001b[0m\u001b[37m\u001b[0m \u001b[1m11s\u001b[0m 91ms/step - accuracy: 0.9992 - loss: 0.0025 - val_accuracy: 0.9875 - val_loss: 0.0952\n",
            "Epoch Time: 10.90 seconds\n",
            "\n",
            "Epoch 10/30\n",
            "\u001b[1m118/118\u001b[0m \u001b[32m━━━━━━━━━━━━━━━━━━━━\u001b[0m\u001b[37m\u001b[0m \u001b[1m11s\u001b[0m 91ms/step - accuracy: 0.9991 - loss: 0.0023 - val_accuracy: 0.9879 - val_loss: 0.1026\n",
            "Epoch Time: 20.61 seconds\n",
            "\n",
            "Epoch 11/30\n",
            "\u001b[1m118/118\u001b[0m \u001b[32m━━━━━━━━━━━━━━━━━━━━\u001b[0m\u001b[37m\u001b[0m \u001b[1m10s\u001b[0m 84ms/step - accuracy: 0.9988 - loss: 0.0036 - val_accuracy: 0.9874 - val_loss: 0.0933\n",
            "Epoch Time: 10.36 seconds\n",
            "\n",
            "Epoch 12/30\n",
            "\u001b[1m118/118\u001b[0m \u001b[32m━━━━━━━━━━━━━━━━━━━━\u001b[0m\u001b[37m\u001b[0m \u001b[1m10s\u001b[0m 82ms/step - accuracy: 0.9997 - loss: 0.0014 - val_accuracy: 0.9877 - val_loss: 0.0999\n",
            "Epoch Time: 9.78 seconds\n",
            "\n",
            "Epoch 13/30\n",
            "\u001b[1m118/118\u001b[0m \u001b[32m━━━━━━━━━━━━━━━━━━━━\u001b[0m\u001b[37m\u001b[0m \u001b[1m10s\u001b[0m 86ms/step - accuracy: 0.9994 - loss: 0.0012 - val_accuracy: 0.9871 - val_loss: 0.1123\n",
            "Epoch Time: 10.34 seconds\n",
            "\n",
            "Epoch 14/30\n",
            "\u001b[1m118/118\u001b[0m \u001b[32m━━━━━━━━━━━━━━━━━━━━\u001b[0m\u001b[37m\u001b[0m \u001b[1m10s\u001b[0m 81ms/step - accuracy: 0.9981 - loss: 0.0057 - val_accuracy: 0.9871 - val_loss: 0.0908\n",
            "Epoch Time: 10.36 seconds\n",
            "\n",
            "Epoch 15/30\n",
            "\u001b[1m118/118\u001b[0m \u001b[32m━━━━━━━━━━━━━━━━━━━━\u001b[0m\u001b[37m\u001b[0m \u001b[1m11s\u001b[0m 91ms/step - accuracy: 0.9993 - loss: 0.0023 - val_accuracy: 0.9869 - val_loss: 0.0998\n",
            "Epoch Time: 20.60 seconds\n",
            "\n",
            "Epoch 16/30\n",
            "\u001b[1m118/118\u001b[0m \u001b[32m━━━━━━━━━━━━━━━━━━━━\u001b[0m\u001b[37m\u001b[0m \u001b[1m10s\u001b[0m 81ms/step - accuracy: 0.9988 - loss: 0.0031 - val_accuracy: 0.9875 - val_loss: 0.0956\n",
            "Epoch Time: 10.36 seconds\n",
            "\n",
            "Epoch 17/30\n",
            "\u001b[1m118/118\u001b[0m \u001b[32m━━━━━━━━━━━━━━━━━━━━\u001b[0m\u001b[37m\u001b[0m \u001b[1m10s\u001b[0m 81ms/step - accuracy: 0.9994 - loss: 0.0023 - val_accuracy: 0.9877 - val_loss: 0.0902\n",
            "Epoch Time: 9.72 seconds\n",
            "\n",
            "Epoch 18/30\n",
            "\u001b[1m118/118\u001b[0m \u001b[32m━━━━━━━━━━━━━━━━━━━━\u001b[0m\u001b[37m\u001b[0m \u001b[1m10s\u001b[0m 87ms/step - accuracy: 0.9993 - loss: 0.0024 - val_accuracy: 0.9879 - val_loss: 0.0923\n",
            "Epoch Time: 20.63 seconds\n",
            "\n",
            "Epoch 19/30\n",
            "\u001b[1m118/118\u001b[0m \u001b[32m━━━━━━━━━━━━━━━━━━━━\u001b[0m\u001b[37m\u001b[0m \u001b[1m11s\u001b[0m 91ms/step - accuracy: 0.9991 - loss: 0.0024 - val_accuracy: 0.9871 - val_loss: 0.0946\n",
            "Epoch Time: 20.60 seconds\n",
            "\n",
            "Epoch 20/30\n",
            "\u001b[1m118/118\u001b[0m \u001b[32m━━━━━━━━━━━━━━━━━━━━\u001b[0m\u001b[37m\u001b[0m \u001b[1m10s\u001b[0m 84ms/step - accuracy: 0.9996 - loss: 0.0020 - val_accuracy: 0.9870 - val_loss: 0.0913\n",
            "Epoch Time: 10.35 seconds\n",
            "\n",
            "Epoch 21/30\n",
            "\u001b[1m118/118\u001b[0m \u001b[32m━━━━━━━━━━━━━━━━━━━━\u001b[0m\u001b[37m\u001b[0m \u001b[1m8s\u001b[0m 70ms/step - accuracy: 0.9994 - loss: 0.0015 - val_accuracy: 0.9866 - val_loss: 0.1029\n",
            "Epoch Time: 10.36 seconds\n",
            "\n",
            "Epoch 22/30\n",
            "\u001b[1m118/118\u001b[0m \u001b[32m━━━━━━━━━━━━━━━━━━━━\u001b[0m\u001b[37m\u001b[0m \u001b[1m9s\u001b[0m 72ms/step - accuracy: 0.9994 - loss: 0.0026 - val_accuracy: 0.9867 - val_loss: 0.1007\n",
            "Epoch Time: 10.41 seconds\n",
            "\n",
            "Epoch 23/30\n",
            "\u001b[1m118/118\u001b[0m \u001b[32m━━━━━━━━━━━━━━━━━━━━\u001b[0m\u001b[37m\u001b[0m \u001b[1m11s\u001b[0m 91ms/step - accuracy: 0.9990 - loss: 0.0026 - val_accuracy: 0.9872 - val_loss: 0.1021\n",
            "Epoch Time: 20.60 seconds\n",
            "\n",
            "Epoch 24/30\n",
            "\u001b[1m118/118\u001b[0m \u001b[32m━━━━━━━━━━━━━━━━━━━━\u001b[0m\u001b[37m\u001b[0m \u001b[1m9s\u001b[0m 80ms/step - accuracy: 0.9990 - loss: 0.0028 - val_accuracy: 0.9874 - val_loss: 0.0968\n",
            "Epoch Time: 10.35 seconds\n",
            "\n",
            "Epoch 25/30\n",
            "\u001b[1m118/118\u001b[0m \u001b[32m━━━━━━━━━━━━━━━━━━━━\u001b[0m\u001b[37m\u001b[0m \u001b[1m10s\u001b[0m 85ms/step - accuracy: 0.9996 - loss: 0.0015 - val_accuracy: 0.9872 - val_loss: 0.0974\n",
            "Epoch Time: 10.36 seconds\n",
            "\n",
            "Epoch 26/30\n",
            "\u001b[1m118/118\u001b[0m \u001b[32m━━━━━━━━━━━━━━━━━━━━\u001b[0m\u001b[37m\u001b[0m \u001b[1m8s\u001b[0m 70ms/step - accuracy: 0.9994 - loss: 0.0020 - val_accuracy: 0.9873 - val_loss: 0.1006\n",
            "Epoch Time: 10.35 seconds\n",
            "\n",
            "Epoch 27/30\n",
            "\u001b[1m118/118\u001b[0m \u001b[32m━━━━━━━━━━━━━━━━━━━━\u001b[0m\u001b[37m\u001b[0m \u001b[1m9s\u001b[0m 72ms/step - accuracy: 0.9995 - loss: 0.0015 - val_accuracy: 0.9862 - val_loss: 0.1021\n",
            "Epoch Time: 10.41 seconds\n",
            "\n",
            "Epoch 28/30\n",
            "\u001b[1m118/118\u001b[0m \u001b[32m━━━━━━━━━━━━━━━━━━━━\u001b[0m\u001b[37m\u001b[0m \u001b[1m11s\u001b[0m 90ms/step - accuracy: 0.9995 - loss: 0.0017 - val_accuracy: 0.9857 - val_loss: 0.1153\n",
            "Epoch Time: 10.78 seconds\n",
            "\n",
            "Epoch 29/30\n",
            "\u001b[1m118/118\u001b[0m \u001b[32m━━━━━━━━━━━━━━━━━━━━\u001b[0m\u001b[37m\u001b[0m \u001b[1m11s\u001b[0m 90ms/step - accuracy: 0.9991 - loss: 0.0020 - val_accuracy: 0.9869 - val_loss: 0.0981\n",
            "Epoch Time: 10.79 seconds\n",
            "\n",
            "Epoch 30/30\n",
            "\u001b[1m118/118\u001b[0m \u001b[32m━━━━━━━━━━━━━━━━━━━━\u001b[0m\u001b[37m\u001b[0m \u001b[1m11s\u001b[0m 91ms/step - accuracy: 0.9994 - loss: 0.0014 - val_accuracy: 0.9870 - val_loss: 0.1057\n",
            "Epoch Time: 20.62 seconds\n",
            "313/313 - 2s - 6ms/step - accuracy: 0.9870 - loss: 0.1057\n",
            "\n",
            "--- Final Metrics (25% Training Data) ---\n",
            "Test Loss: 10.57\n",
            "Test Accuracy: 98.70%\n",
            "Total Training Time: 380.93 seconds\n",
            "Average Epoch Time: 12.70 seconds\n",
            "Step Time (approximate per batch): 0.1084 seconds\n"
          ]
        }
      ]
    },
    {
      "cell_type": "code",
      "source": [
        "import os, psutil\n",
        "\n",
        "print(f\"Total CPUs: {os.cpu_count()}\")\n",
        "ram = psutil.virtual_memory()\n",
        "print(f\"Total RAM: {ram.total / (1024**3):.2f} GB\")"
      ],
      "metadata": {
        "id": "0B5rtmdDSV9k",
        "outputId": "10abccf2-2796-4d89-f3e5-ecea4b3d1ed6",
        "colab": {
          "base_uri": "https://localhost:8080/"
        }
      },
      "execution_count": null,
      "outputs": [
        {
          "output_type": "stream",
          "name": "stdout",
          "text": [
            "Total CPUs: 2\n",
            "Total RAM: 12.67 GB\n"
          ]
        }
      ]
    }
  ]
}